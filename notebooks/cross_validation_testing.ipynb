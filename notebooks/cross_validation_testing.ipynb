{
 "cells": [
  {
   "cell_type": "markdown",
   "metadata": {},
   "source": [
    "# Cross Validation Experiments"
   ]
  },
  {
   "cell_type": "code",
   "execution_count": null,
   "metadata": {},
   "outputs": [],
   "source": [
    "# native python\n",
    "import os\n",
    "import sys\n",
    "os.chdir(os.path.abspath(path.join(os.getcwd(),\"..\")))\n",
    "\n",
    "# open source packages\n",
    "import matplotlib.pyplot as plt\n",
    "plt.style.use('ggplot')\n",
    "import numpy as np\n",
    "import pandas as pd\n",
    "from sklearn.metrics import confusion_matrix, classification_report\n",
    "from sklearn.model_selection import cross_val_score, train_test_split\n",
    "\n",
    "# custom packages that are all in the github repo\n",
    "from pacman_classes import PACManTrain, PACManPipeline\n",
    "from utils.proposal_scraper import ProposalScraper\n",
    "from utils.analyzer import PACManAnalyze"
   ]
  },
  {
   "cell_type": "code",
   "execution_count": null,
   "metadata": {},
   "outputs": [],
   "source": [
    "def combine_proposals(pman):\n",
    "    df1 = pman.proposal_data['Cycle24']\n",
    "    df2 = pman.proposal_data['Cycle25']\n",
    "    df = df2.append(df1, sort=True)\n",
    "    return df"
   ]
  },
  {
   "cell_type": "code",
   "execution_count": null,
   "metadata": {},
   "outputs": [],
   "source": [
    "def get_balanced_subset(df, proposal_counts):\n",
    "    min_num_proposals = proposal_counts.min()\n",
    "    data = {}\n",
    "    for proposal_type in df['hand_classification'].unique():\n",
    "        proposal_df = df[df['hand_classification'] == proposal_type]\n",
    "        indices = np.random.randint(low=0, high=len(proposal_df), size=100)\n",
    "        data[proposal_type] = proposal_df.iloc[indices]\n",
    "    \n",
    "    final_df = pd.DataFrame()\n",
    "    for key in data.keys():\n",
    "        final_df = final_df.append(data[key])\n",
    "    return final_df"
   ]
  },
  {
   "cell_type": "code",
   "execution_count": null,
   "metadata": {},
   "outputs": [],
   "source": [
    "pacman_training = PACManTrain(cycles_to_analyze=[24, 25])\n",
    "pacman_training.read_training_data(parallel=False)"
   ]
  },
  {
   "cell_type": "code",
   "execution_count": null,
   "metadata": {},
   "outputs": [],
   "source": [
    "total_dataset = combine_proposals(pacman_training)"
   ]
  },
  {
   "cell_type": "code",
   "execution_count": null,
   "metadata": {},
   "outputs": [],
   "source": [
    "total_proposal_counts = total_dataset['hand_classification'].value_counts()\n",
    "balanced_df = get_balanced_subset(df=total_dataset, proposal_counts=total_proposal_counts)"
   ]
  },
  {
   "cell_type": "code",
   "execution_count": null,
   "metadata": {},
   "outputs": [],
   "source": []
  },
  {
   "cell_type": "code",
   "execution_count": null,
   "metadata": {},
   "outputs": [],
   "source": [
    "scorestotal = cross_val_score(\n",
    "    training_pacman.model, \n",
    "    total_dataset['cleaned_text'], \n",
    "    total_dataset['encoded_hand_classification'], \n",
    "    cv=4, \n",
    "    scoring='f1_macro'\n",
    ")"
   ]
  },
  {
   "cell_type": "code",
   "execution_count": null,
   "metadata": {},
   "outputs": [],
   "source": [
    "scoresbalanced = cross_val_score(\n",
    "    train_pacman.model, \n",
    "    balanced_df['cleaned_text'], \n",
    "    balanced_df['encoded_hand_classification'], \n",
    "    cv=4, \n",
    "    scoring='f1_macro'\n",
    ")"
   ]
  },
  {
   "cell_type": "code",
   "execution_count": null,
   "metadata": {},
   "outputs": [],
   "source": []
  }
 ],
 "metadata": {
  "kernelspec": {
   "display_name": "Python 3",
   "language": "python",
   "name": "python3"
  },
  "language_info": {
   "codemirror_mode": {
    "name": "ipython",
    "version": 3
   },
   "file_extension": ".py",
   "mimetype": "text/x-python",
   "name": "python",
   "nbconvert_exporter": "python",
   "pygments_lexer": "ipython3",
   "version": "3.8.10"
  }
 },
 "nbformat": 4,
 "nbformat_minor": 4
}
