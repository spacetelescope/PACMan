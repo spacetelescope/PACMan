{
 "cells": [
  {
   "cell_type": "markdown",
   "metadata": {},
   "source": [
    "# Cross Validation Experiments"
   ]
  },
  {
   "cell_type": "code",
   "execution_count": 4,
   "metadata": {},
   "outputs": [],
   "source": [
    "# native python\n",
    "import os\n",
    "import sys\n",
    "cwd = os.getcwd()\n",
    "pacman_directory = os.path.join('/',*cwd.split('/')[:-1])\n",
    "sys.path.append(pacman_directory)\n",
    "\n",
    "# open source packages\n",
    "import matplotlib.pyplot as plt\n",
    "plt.style.use('ggplot')\n",
    "import numpy as np\n",
    "import pandas as pd\n",
    "from sklearn.metrics import confusion_matrix, classification_report\n",
    "from sklearn.model_selection import cross_val_score, train_test_split\n",
    "\n",
    "# custom packages that are all in the github repo\n",
    "from pacman2020 import PACManTrain, PACManPipeline\n",
    "from utils.proposal_scraper import HSTProposalScraper\n",
    "from utils.analyzer import PACManAnalyze"
   ]
  },
  {
   "cell_type": "code",
   "execution_count": 1,
   "metadata": {},
   "outputs": [],
   "source": [
    "def combine_proposals(pman):\n",
    "    df1 = pman.proposal_data['cycle_24']\n",
    "    df2 = pman.proposal_data['cycle_25']\n",
    "    df = df2.append(df1, sort=True)\n",
    "    return df"
   ]
  },
  {
   "cell_type": "code",
   "execution_count": 2,
   "metadata": {},
   "outputs": [],
   "source": [
    "def get_balanced_subset(df, proposal_counts):\n",
    "    min_num_proposals = proposal_counts.min()\n",
    "    data = {}\n",
    "    for proposal_type in df['hand_classification'].unique():\n",
    "        proposal_df = df[df['hand_classification'] == proposal_type]\n",
    "        indices = np.random.randint(low=0, high=len(proposal_df), size=100)\n",
    "        data[proposal_type] = proposal_df.iloc[indices]\n",
    "    \n",
    "    final_df = pd.DataFrame()\n",
    "    for key in data.keys():\n",
    "        final_df = final_df.append(data[key])\n",
    "    return final_df"
   ]
  },
  {
   "cell_type": "code",
   "execution_count": null,
   "metadata": {},
   "outputs": [],
   "source": [
    "pacman_training = PACManTrain(cycles_to_analyze=[24, 25])\n",
    "pacman_training.read_training_data(parallel=False)"
   ]
  },
  {
   "cell_type": "code",
   "execution_count": 3,
   "metadata": {},
   "outputs": [
    {
     "ename": "NameError",
     "evalue": "name 'pacman_training' is not defined",
     "output_type": "error",
     "traceback": [
      "\u001b[0;31m---------------------------------------------------------------------------\u001b[0m",
      "\u001b[0;31mNameError\u001b[0m                                 Traceback (most recent call last)",
      "\u001b[0;32m<ipython-input-3-129e6f2e0509>\u001b[0m in \u001b[0;36m<module>\u001b[0;34m\u001b[0m\n\u001b[0;32m----> 1\u001b[0;31m \u001b[0mtotal_dataset\u001b[0m \u001b[0;34m=\u001b[0m \u001b[0mcombine_proposals\u001b[0m\u001b[0;34m(\u001b[0m\u001b[0mpacman_training\u001b[0m\u001b[0;34m)\u001b[0m\u001b[0;34m\u001b[0m\u001b[0;34m\u001b[0m\u001b[0m\n\u001b[0m",
      "\u001b[0;31mNameError\u001b[0m: name 'pacman_training' is not defined"
     ]
    }
   ],
   "source": [
    "total_dataset = combine_proposals(pacman_training)"
   ]
  },
  {
   "cell_type": "code",
   "execution_count": null,
   "metadata": {},
   "outputs": [],
   "source": [
    "total_proposal_counts = total_dataset['hand_classification'].value_counts()\n",
    "balanced_df = get_balanced_subset(df=total_dataset, proposal_counts=total_proposal_counts)"
   ]
  },
  {
   "cell_type": "code",
   "execution_count": null,
   "metadata": {},
   "outputs": [],
   "source": []
  },
  {
   "cell_type": "code",
   "execution_count": null,
   "metadata": {},
   "outputs": [],
   "source": [
    "scorestotal = cross_val_score(\n",
    "    training_pacman.model, \n",
    "    total_dataset['cleaned_text'], \n",
    "    total_dataset['encoded_hand_classification'], \n",
    "    cv=4, \n",
    "    scoring='f1_macro'\n",
    ")\n",
    " "
   ]
  },
  {
   "cell_type": "code",
   "execution_count": null,
   "metadata": {},
   "outputs": [],
   "source": [
    "scoresbalanced = cross_val_score(\n",
    "    train_pacman.model, \n",
    "    balanced_df['cleaned_text'], \n",
    "    balanced_df['encoded_hand_classification'], \n",
    "    cv=4, \n",
    "    scoring='f1_macro'\n",
    ")"
   ]
  }
 ],
 "metadata": {
  "kernelspec": {
   "display_name": "Python 3",
   "language": "python",
   "name": "python3"
  },
  "language_info": {
   "codemirror_mode": {
    "name": "ipython",
    "version": 3
   },
   "file_extension": ".py",
   "mimetype": "text/x-python",
   "name": "python",
   "nbconvert_exporter": "python",
   "pygments_lexer": "ipython3",
   "version": "3.7.6"
  }
 },
 "nbformat": 4,
 "nbformat_minor": 4
}
