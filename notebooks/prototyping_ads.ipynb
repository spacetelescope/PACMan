{
 "cells": [
  {
   "cell_type": "markdown",
   "metadata": {},
   "source": [
    "### Using the ADS API\n",
    "\n",
    "- The goal of this notebook is to demonstrate the basic functionality of the ADS Developer API\n",
    "\n",
    "Relevant documentation:<br>\n",
    "ADS Developer API github repo: https://github.com/adsabs/adsabs-dev-api <br>\n",
    "python wrapper: https://github.com/andycasey/ads"
   ]
  },
  {
   "cell_type": "code",
   "execution_count": null,
   "metadata": {},
   "outputs": [],
   "source": [
    "import ads\n",
    "import pandas as pd"
   ]
  },
  {
   "cell_type": "markdown",
   "metadata": {},
   "source": [
    "The first step is to create a query object. <br>\n",
    "The list of available query parameters may be found here:<br>\n",
    "https://github.com/adsabs/adsabs-dev-api/blob/master/Search_API.ipynb"
   ]
  },
  {
   "cell_type": "code",
   "execution_count": null,
   "metadata": {},
   "outputs": [],
   "source": [
    "r = ads.RateLimits('SearchQuery')"
   ]
  },
  {
   "cell_type": "code",
   "execution_count": null,
   "metadata": {},
   "outputs": [],
   "source": [
    "# Check query limits\n",
    "print(r.getRateLimits('SearchQuery'))"
   ]
  },
  {
   "cell_type": "code",
   "execution_count": null,
   "metadata": {},
   "outputs": [],
   "source": [
    "author_list = pd.read_csv('../example_AAS_list.csv', header=0)\n",
    "author_list.columns = ['last_name', 'first_name']\n",
    "author_list.head()"
   ]
  },
  {
   "cell_type": "code",
   "execution_count": null,
   "metadata": {},
   "outputs": [],
   "source": [
    "author_list.last_name[0]"
   ]
  },
  {
   "cell_type": "code",
   "execution_count": null,
   "metadata": {},
   "outputs": [],
   "source": [
    "author_list.first_name[0]"
   ]
  },
  {
   "cell_type": "code",
   "execution_count": null,
   "metadata": {},
   "outputs": [],
   "source": [
    "# Testing with random author from author list\n",
    "query = ads.SearchQuery(\n",
    "    author=f'{author_list.last_name[0]} {author_list.first_name[0]}',\n",
    "    fl=['id', 'author', 'abstract', 'bibcode','title', 'citation_count','body', 'year', 'pubdate'],\n",
    ")"
   ]
  },
  {
   "cell_type": "code",
   "execution_count": null,
   "metadata": {},
   "outputs": [],
   "source": [
    "# Testing with Lou\n",
    "query = ads.SearchQuery(\n",
    "    first_author='Lou Strolger',\n",
    "    fl=['id', 'author', 'abstract', 'bibcode','title', 'citation_count','body'],\n",
    "    sort='year'\n",
    ")"
   ]
  },
  {
   "cell_type": "code",
   "execution_count": null,
   "metadata": {},
   "outputs": [],
   "source": [
    "# Testing with me\n",
    "query = ads.SearchQuery(\n",
    "    first_author='Nathan Miles',\n",
    "    fl=['id', 'author', 'abstract', 'bibcode','title', 'citation_count','body'],\n",
    "    sort='year',\n",
    "    aff='Space Telescope Science Institute'\n",
    ")"
   ]
  },
  {
   "cell_type": "code",
   "execution_count": null,
   "metadata": {},
   "outputs": [],
   "source": [
    "papers = list(query)"
   ]
  },
  {
   "cell_type": "markdown",
   "metadata": {},
   "source": [
    "Loop through the results and print out the author and title of each paper returned by the search.\n"
   ]
  },
  {
   "cell_type": "code",
   "execution_count": null,
   "metadata": {},
   "outputs": [],
   "source": [
    "for p in papers:\n",
    "    print(p.author, p.title, p.citation_count)"
   ]
  },
  {
   "cell_type": "code",
   "execution_count": null,
   "metadata": {},
   "outputs": [],
   "source": [
    "print(f'Title: {papers[2].title[0]}\\n Author: {papers[2].author[0]}\\n Abstract: \\n {papers[2].abstract}\\n')"
   ]
  },
  {
   "cell_type": "code",
   "execution_count": null,
   "metadata": {},
   "outputs": [],
   "source": [
    "'.\\n'.join(papers[2].abstract.split('.'))"
   ]
  },
  {
   "cell_type": "code",
   "execution_count": null,
   "metadata": {},
   "outputs": [],
   "source": [
    "def save_example_abstract(paper, fout=None):\n",
    "    first_author = paper.author[0]\n",
    "    if fout is None:\n",
    "        fout = first_author.replace(', ', '_')\n",
    "    \n",
    "    with open(fout, mode='w+') as fobj:\n",
    "        fobj.write(paper.abstract)\n",
    "        \n"
   ]
  },
  {
   "cell_type": "code",
   "execution_count": null,
   "metadata": {},
   "outputs": [],
   "source": [
    "save_example_abstract(papers[2], fout='example_abstract.txt')"
   ]
  }
 ],
 "metadata": {
  "kernelspec": {
   "display_name": "Python 3",
   "language": "python",
   "name": "python3"
  },
  "language_info": {
   "codemirror_mode": {
    "name": "ipython",
    "version": 3
   },
   "file_extension": ".py",
   "mimetype": "text/x-python",
   "name": "python",
   "nbconvert_exporter": "python",
   "pygments_lexer": "ipython3",
   "version": "3.8.10"
  }
 },
 "nbformat": 4,
 "nbformat_minor": 4
}
