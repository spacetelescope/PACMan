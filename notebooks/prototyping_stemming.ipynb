{
 "cells": [
  {
   "cell_type": "markdown",
   "metadata": {},
   "source": [
    "# Tokenization and Lemmatization/Stemming in python\n",
    " \n",
    "- The goal of this notebok is to demonstrate the word stemming capabilities of the [nltk](https://www.nltk.org/) and [spaCy](https://spacy.io/) package\n"
   ]
  },
  {
   "cell_type": "markdown",
   "metadata": {},
   "source": [
    "### Use Natural Language Tool Kit to retrieve lemma and stem of words in a sample text file"
   ]
  },
  {
   "cell_type": "code",
   "execution_count": 1,
   "metadata": {},
   "outputs": [],
   "source": [
    "# Import Natural Language Tool Kit packages\n",
    "import nltk\n",
    "from nltk.tokenize import word_tokenize\n",
    "from nltk.corpus import wordnet\n",
    "from nltk.stem import porter, WordNetLemmatizer"
   ]
  },
  {
   "cell_type": "code",
   "execution_count": 2,
   "metadata": {},
   "outputs": [],
   "source": [
    "# Read text file containing stop words, or a set of commonly used words which are likely irrelevant to\n",
    "# proposal sorting and thus are filtered out before the natural language processing occurs\n",
    "with open('../utils/stopwords.txt', 'r') as test_file:\n",
    "    tmp = test_file.readlines()\n",
    "    stop_words = [val.strip('\\n') for val in tmp]"
   ]
  },
  {
   "cell_type": "code",
   "execution_count": 3,
   "metadata": {},
   "outputs": [
    {
     "name": "stderr",
     "output_type": "stream",
     "text": [
      "[nltk_data] Downloading package wordnet to /Users/tking/nltk_data...\n",
      "[nltk_data]   Package wordnet is already up-to-date!\n",
      "[nltk_data] Downloading package punkt to /Users/tking/nltk_data...\n",
      "[nltk_data]   Package punkt is already up-to-date!\n",
      "[nltk_data] Downloading package averaged_perceptron_tagger to\n",
      "[nltk_data]     /Users/tking/nltk_data...\n",
      "[nltk_data]   Package averaged_perceptron_tagger is already up-to-\n",
      "[nltk_data]       date!\n"
     ]
    },
    {
     "data": {
      "text/plain": [
       "True"
      ]
     },
     "execution_count": 3,
     "metadata": {},
     "output_type": "execute_result"
    }
   ],
   "source": [
    "nltk.download('wordnet')  # lexical database for the English language\n",
    "nltk.download('punkt')  # tokenizer which divides text into a list of sentences\n",
    "nltk.download('averaged_perceptron_tagger')  # tags words with their part of speech"
   ]
  },
  {
   "cell_type": "code",
   "execution_count": 4,
   "metadata": {},
   "outputs": [],
   "source": [
    "# Read in some example text to play with.\n",
    "with open('../proposal_data/Cycle25/0001.txtx', 'r') as test_file:\n",
    "    text = test_file.readlines()\n",
    "    text = [val.strip('\\n') for val in text]"
   ]
  },
  {
   "cell_type": "code",
   "execution_count": 5,
   "metadata": {},
   "outputs": [],
   "source": [
    "# remove new line characters\n",
    "text = [val.strip('\\n') for val in text]"
   ]
  },
  {
   "cell_type": "code",
   "execution_count": 6,
   "metadata": {},
   "outputs": [
    {
     "data": {
      "text/plain": [
       "['Hubble Space Telescope',\n",
       " '',\n",
       " 'Cycle 25 AR Proposal',\n",
       " '',\n",
       " '1',\n",
       " '',\n",
       " 'Numerical Modeling of Superluminous and Peculiar',\n",
       " 'Supernovae',\n",
       " 'Scientific Category: Stellar Physics',\n",
       " 'Scientific Keywords: Circumstellar Matter, Massive Stars, Radiative Transfer, Supernovae, Transients',\n",
       " 'Budget Size: Regular',\n",
       " 'Theory: Yes',\n",
       " '',\n",
       " 'Abstract',\n",
       " 'The Hubble Space Telescope (HST) has been instrumental in elucidating the nature of the intriguing',\n",
       " 'superluminous supernovae (SLSNe) explosions by providing unparalleled observations of the progenitor stars,',\n",
       " 'supernova imposters such as \"Luminous Blue Variables\" (LBVs) and their host galaxy properties. Furthermore,',\n",
       " 'HST has directly imaged one of the earliest SLSN discovered, SN 2006gy, more than two years after the',\n",
       " 'explosion. Now, more than a decade since the first modern discovery of SLSNe and with more than a hundred',\n",
       " 'members of the class observed, the question on the explosion and energy input mechanism of these',\n",
       " 'unprecedented events still divides supernova and massive stellar evolution theorists. We bring together a team',\n",
       " 'of transient and supernova observers and theorists with a diverse skill-set of numerical backgrounds with the',\n",
       " 'goal to compile a library of light curve (LC) and spectra models for SLSNe and uncovnentional supernovae.',\n",
       " 'This will involve the use and extension of currently available multi-dimensional radiation hydrodynamics and',\n",
       " 'radiation transfer codes to treat conditions that are relevant to SLSNe powered by the interaction between the',\n",
       " 'SN ejecta and a dense circumstellar medium (CSM) lost by the progenitor star before the explosion. Model',\n",
       " 'CSM interaction spectra and lightcurves computed across the relevant parameter space will be compared to',\n",
       " 'observations of SLSNe and will be made available to the community online. In addition, the comparison of our',\n",
       " 'models to observations will guide our thinking as to what mechanisms are more relevant to the properties of',\n",
       " 'both hydrogen-rich (SLSN-II) and the still enigmatic hydrogen-poor (SLSN-I) events.',\n",
       " '',\n",
       " '\\x0cNumerical Modeling of Superluminous and Peculiar Supernovae',\n",
       " '',\n",
       " 'Investigators:',\n",
       " 'Investigator',\n",
       " '',\n",
       " 'Institution',\n",
       " '',\n",
       " 'Country',\n",
       " '',\n",
       " 'E Chatzopoulos',\n",
       " '',\n",
       " 'Louisiana State University and A & M College',\n",
       " '',\n",
       " 'USA/LA',\n",
       " '',\n",
       " 'G Clayton',\n",
       " '',\n",
       " 'Louisiana State University and A & M College',\n",
       " '',\n",
       " 'USA/LA',\n",
       " '',\n",
       " 'J Frank',\n",
       " '',\n",
       " 'Louisiana State University and A & M College',\n",
       " '',\n",
       " 'USA/LA',\n",
       " '',\n",
       " 'D Howell',\n",
       " '',\n",
       " 'Las Cumbres Observatory Global Telescope',\n",
       " 'Network',\n",
       " '',\n",
       " 'USA/CA',\n",
       " '',\n",
       " 'R Margutti',\n",
       " '',\n",
       " 'Harvard University',\n",
       " '',\n",
       " 'USA/MA',\n",
       " '',\n",
       " 'B Schaefer',\n",
       " '',\n",
       " 'Louisiana State University and A & M College',\n",
       " '',\n",
       " 'USA/LA',\n",
       " '',\n",
       " 'J Vinko',\n",
       " '',\n",
       " 'University of Szeged',\n",
       " '',\n",
       " 'HUN',\n",
       " '',\n",
       " 'J Wheeler',\n",
       " '',\n",
       " 'University of Texas at Austin',\n",
       " '',\n",
       " 'USA/TX',\n",
       " '',\n",
       " 'Louisiana State University and A & M College',\n",
       " '',\n",
       " 'USA/LA',\n",
       " '',\n",
       " 'Z Xue',\n",
       " 'Number of investigators: 9',\n",
       " '',\n",
       " 'Dataset Summary:',\n",
       " '',\n",
       " '\\x0cNumerical Modeling of Superluminous and Peculiar Supernovae',\n",
       " '• Scientific Justification',\n",
       " 'Introduction',\n",
       " 'Over the last decade we witnessed spectacular discoveries in the field of time—',\n",
       " 'domain astrophysics. The introduction of unbiased transient search surveys like the',\n",
       " 'Robotic Optical Transient Search Experiment Supernova Verification Project (RSVP)',\n",
       " '(Yuan et al., 2007), followed by wide—field, high—cadence deeper surveys like the',\n",
       " 'Palomar Transient Factory (PTF) and the intermediate PTF (Law et al., 2009) and the',\n",
       " 'Panoramic Survey Telescope & Rapid Response System (Pan—STARRS) (Kaiser et al.,',\n",
       " '2002) and others (Keller et al., 2007; Drake et al., 2009; Shporer et al., 2011; Shappee et',\n",
       " 'al., 2014) have led to the discovery of Super Luminous Supernovae (SLSNe), a new class',\n",
       " 'of supernova explosions reaching peak luminosities well in excess of 10 times that of',\n",
       " 'regular supernovae (SNe) (Gal-Yam et al., 2009) challenging our understanding of stellar',\n",
       " 'death. It is the unbiased nature of these transient searches, in contrast to targeted surveys',\n",
       " 'aimed at discovering Type Ia SNe due to their cosmological importance as standardizable',\n",
       " 'candles, that also revealed that many of these extreme stellar explosions are hosted in low',\n",
       " '—metallicity, dwarf galaxy environments. Moreover, new intriguing and exotic transient',\n",
       " 'phenomena were discovered yielding yet unanswered questions on the nature of extreme',\n",
       " 'stellar death, stellar interactions and massive stellar evolution itself including Tidal',\n",
       " 'Disruption Events (TDEs) (Frank & Rees, 1976; Gezari et al., 2012), lensed (Rodney et',\n",
       " 'al., 2016) and uncharacteristic SNe and disappearing stars (Gerke et al., 2015; Adams et',\n",
       " 'al., 2016). These events show an incredible degree of diversity in terms of peak',\n",
       " 'luminosities and duration as well as spectroscopic properties (Figure 1).',\n",
       " 'The Hubble Space Telescope (HST) has played a significant role in elucidating the',\n",
       " 'nature of the explosions, the progenitor stars, and the host galaxy environments for',\n",
       " 'SLSNe and closely related events such as narrow-line Type IIn supernovae, supernova',\n",
       " '“imposters” and luminous blue variables (LBV). Miller et al. (2009) obtained HST',\n",
       " 'imaging of SLSN 2006gy more than two years after the explosion. Smith et al. (2010)',\n",
       " 'obtained archival HST detections of the progenitor of SN 2009ip showing it to be a',\n",
       " 'supergiant with initial mass 50-80 M◉ and properties associated with LBV. SN 2009ip',\n",
       " 'subsequently erupted as a full-fledged supernova (Mauerhan et al. 2013). Milisavljevic et',\n",
       " 'al. (2008) obtained late-time HST images of the Type IIn SN 1986J showing a slow',\n",
       " 'decline of <1 mag over 8 years that is typical of circumstellar matter (CSM) interaction.',\n",
       " 'Crowther et al. (2010) used archival HST spectroscopy of hydrogen-rich WN5-6 stars in',\n",
       " 'the young star cluster R136 to conclude initial masses in the range 165-320 M◉. HST has',\n",
       " 'enabled numerous studies of the classic LBV variables, the hypergiant P Cygni and η—',\n",
       " 'Carinae. Deep SN searches with the HST such as the CLASH project (Postman et al.',\n",
       " '2012) should see SLSN among the SN Ia for which they are searching. The New',\n",
       " 'Frontiers Program promises a new venue to discover and study superluminous events at',\n",
       " 'cosmological distances (Cooke et al. 2012). Lensing may allow deep spectroscopy of',\n",
       " 'SLSN.',\n",
       " '\"1',\n",
       " '',\n",
       " '\\x0cThese discoveries are so enthralling to the scientific community that new and',\n",
       " 'more sensitive, very high—cadence, large eld of view multi—million dollar surveys are',\n",
       " 'now under development. The Large Synoptic Survey Telescope (LSST) (Ivezic et al.,',\n",
       " '2008) is posed to be a leader in time—domain astrophysics with an estimated one million',\n",
       " 'new transient discoveries per night. Another very promising transient search project is the',\n",
       " 'Zwicky Transient Facility (ZTF) (Bellm, 2014) led by the California Institute of',\n",
       " 'Technology, planned to have first light at the Palomar Observatory just next year. In',\n",
       " \"addition, the next generation NASA's Cosmic Origins James Webb Space Telescope\",\n",
       " '(JWST) and Wide Field Infrared Survey Telescope (WFIRST) will be able to probe the',\n",
       " 'very young, distant Universe discovering a multitude of primordial transient events',\n",
       " 'including the SN explosions of the first stars.',\n",
       " 'The goal of our proposal is to perform realistic simulations of the physical',\n",
       " 'mechanisms associated with extreme transient events and accurately model their light',\n",
       " 'curves and spectra using state of the art radiation transport codes. To achieve this we',\n",
       " 'bring together a collaboration of observers at the forefront of modern transient surveys',\n",
       " 'and theorists with very diverse numerical simulation skills. We will extend currently',\n",
       " 'available codes to study the multi—dimensional radiation hydrodynamics and radiation',\n",
       " 'transfer of superluminous supernovae and other transients creating an open—source',\n",
       " 'library of model light curves and spectra for direct comparison to new transients',\n",
       " 'discovered by current and future observational campaigns.',\n",
       " 'Although significant progress has been made in understanding massive stellar',\n",
       " 'death and stellar interactions over the last few years, there still remain important',\n",
       " 'unanswered questions triggered by the discoveries of new transients. Some of these',\n",
       " 'include:',\n",
       " '• How can mass around SNe affect their observed properties?',\n",
       " '• What is the dominant mechanism that powers SLSNe, especially those of the',\n",
       " 'hydrogen—poor subclass?',\n",
       " '• What are the sources of the observed diversity of SLSNe properties?',\n",
       " '• What are the expected signatures of hydrogen—poor SN ejecta—circumstellar',\n",
       " 'interaction and do they match any SLSN—I observations?',\n",
       " '• What are the three—dimensional properties of the interaction between SN ejecta and',\n",
       " 'surrounding material of different geometry?',\n",
       " '• What is the nature of newly discovered exotic transients and peculiar SNe?',\n",
       " 'The proposed project aims to make significant progress in answering these',\n",
       " 'questions by utilizing the power of supercomputers and innovative algorithms in order to',\n",
       " 'model the radiative properties of superluminous and peculiar SNe after the explosion.',\n",
       " 'Our strategy will be to use an arsenal of state of the art and open source physics codes',\n",
       " 'allowing us to study these events in different regimes: the evolution of the progenitors,',\n",
       " 'their eventual catastrophic explosion and subsequent expansion and, in many cases,',\n",
       " 'interaction with surrounding material. A fraction of our numerical simulations will be',\n",
       " 'done in 2D and 3D geometry in an attempt to model realistic systems reminiscent of',\n",
       " 'Carinae (Figure 2). The main phase of our numerical modeling campaign will be to use',\n",
       " 'sophisticated radiation transport codes in order to make predictions of actual observables',\n",
       " '\"2',\n",
       " '',\n",
       " '\\x0csuch as the transient total luminosity and spectral evolution for direct comparisons to new',\n",
       " 'and archival data.',\n",
       " 'Many of the questions above directly relate to our lack of better understanding of',\n",
       " 'late—stage massive stellar evolution. It has recently been reported that the majority of',\n",
       " 'massive stars are in binary systems (Sana et al., 2012) generating the need for more',\n",
       " 'studies of massive binary evolution. Furthermore, the physical mechanisms causing',\n",
       " 'massive stars to lose mass, in many cases via episodic eruptions like in η—Carinae, are',\n",
       " 'still not well understood (Smith et al., 2007; Woosley et al., 2007; Shiode & Quataert,',\n",
       " '2014). These are important issues as they relate to some SLSNe (SLSN—II) that show',\n",
       " 'clear signs of interaction between the expanding SN ejecta and a hydrogen—rich CSM.',\n",
       " 'But what is even more striking when examining the current sample of SLSNe is the',\n",
       " 'diversity of their observed light curves (LCs) and spectra even within objects of the same',\n",
       " 'subclass (Gal-Yam et al., 2009; Chatzopoulos et al., 2013b). It still remains to be',\n",
       " 'addressed if the origin of this diversity is a variety of input mechanisms that power the',\n",
       " 'SN or a mirroring of the inherent diversity of circumstellar matter around massive stars.',\n",
       " 'Part of that problem is our lack or deficit of spectral models corresponding to',\n",
       " 'mechanisms like CSM interaction, especially in the case where the material is hydrogen',\n",
       " '—deficient. The origin of hydrogen—deficient shells around massive stars could be the',\n",
       " 'result of either episodic mass—loss events in a massive star stripped of its hydrogen and',\n",
       " 'helium envelopes due to binary interaction, or mass—loss in a single massive star that',\n",
       " 'experienced chemically—homogeneous evolution (CHE) and complete mixing due to the',\n",
       " 'effects of rotation and magnetic fields (Chatzopoulos & Wheeler, 2012b; Chatzopoulos et',\n",
       " 'al., 2013a).',\n",
       " '',\n",
       " '• Analysis Plan',\n",
       " 'Numerical Tools for the Study of Transient Astrophysics',\n",
       " 'The major goal of this project is to make predictions for LCs and spectra that can',\n",
       " 'be directly compared to existing and future observations of transient phenomena',\n",
       " 'including SLSNe and peculiar SNe. The process of modeling these events involves',\n",
       " 'multiple separate computational steps. First, in order to be provided with reliable initial',\n",
       " 'conditions for the progenitors of SNe, we use the open source stellar evolution code',\n",
       " 'Modules for Experiments in Stellar Astrophysics (MESA); (Paxton et al., 2011, 2013,',\n",
       " '2015). Over the last decade, MESA has grown to be a powerful tool for studying stellar',\n",
       " 'evolution allowing the inclusion of a multitude of stellar properties and the capacity for',\n",
       " 'the user to easily extend the code to examine new prescriptions for a variety of',\n",
       " 'mechanisms. The latest version of MESA also allows for the computation of SN',\n",
       " 'explosions in 1D, including the associated nuclear burning and production of 56Ni and the',\n",
       " 'SN shock propagation through the stellar envelope. Yet further, the recently upcoming',\n",
       " 'version of MESA will use radiation diffusion to compute SN LCs. The PI is one of the',\n",
       " 'earliest and most experienced users of MESA (Chatzopoulos & Wheeler, 2012a;',\n",
       " 'Chatzopoulos et al., 2013a, 2015).',\n",
       " 'We will use MESA to compute progenitor models of massive stars of different',\n",
       " 'properties (mass, metallicity, rotation, binary companion) to guide the initial conditions',\n",
       " '\"3',\n",
       " '',\n",
       " '\\x0c(ICs) for our radiation hydrodynamics simulations. We will then compile a suite of',\n",
       " 'radiation hydrodynamics simulations using the MESA stellar models together with',\n",
       " 'different assumptions for the CSM properties to model interaction throughout the',\n",
       " 'associated parameter space. For that step we will use the hydrodynamics code FLASH',\n",
       " '(Fryxell et al., 2000; Dubey et al., 2012) and utilize its new Radiation Flux—Limiter',\n",
       " 'Aware Hydrodynamics (RadFLAH) module developed and tested by the PI and his',\n",
       " 'collaborators at the University of Chicago FLASH center. We will also extend the',\n",
       " 'capability of RadFLAH to treat 2D cylindrical and 3D Cartesian geometries that will',\n",
       " 'enable us to explore multi—dimensional effects associated with CSM interaction. In',\n",
       " 'tandem, we will provide the same ICs to our collaborators at the Los Alamos National',\n",
       " 'Laboratory (LANL) for RAGE (Gittings et al., 2008) radiation hydrodynamics',\n",
       " 'simulations that will yield model LCs and broad—band spectral energy distributions',\n",
       " '(SEDs) using their post—processing radiation transfer code SPECTRUM (Frey et al.,',\n",
       " '2013). In parallel, we plan to utilize the new 1D SuperNova Explosion Code (SNEC)',\n",
       " '(Morozova et al., 2015) that can compute bolometric and approximate multi—color SN',\n",
       " 'LCs using simple radiative diffusion and can be modified for other power inputs that are',\n",
       " 'frequently associated with SLSNe (magnetar spin—down, CSM interaction). This will',\n",
       " 'enable our first code—to—code comparison exercise (between FLASH, RAGE and',\n",
       " 'SNEC), at least in terms of the model LCs. This is an important test as it will inform us',\n",
       " 'on the uncertainties of our predictions as a function of different numerical treatments for',\n",
       " 'the radiation hydrodynamics and transport physics.',\n",
       " 'Finally, with the FLASH and RAGE radiation hydrodynamics profiles available,',\n",
       " 'we will use modified versions of radiation transfer codes to compute model line spectra',\n",
       " 'throughout the evolution of these events for comparisons against observations. In',\n",
       " 'particular we will use the new SuperNu (Wollaeger & van Rossum, 2014) radiation',\n",
       " 'transfer code but with extensions to handle non local thermal equilibrium (nLTE) and non',\n",
       " '—homologous effects. To validate our results, we will also perform code—to—code',\n",
       " 'comparisons with the open source TARDIS (Kerzendorf & Sim, 2014) and, where',\n",
       " 'appropriate, CLOUDY (Ferland et al., 2013) codes. In particular, TARDIS uses a Monte—',\n",
       " 'Carlo radiation transfer scheme that can be run in nLTE mode and CLOUDY is a spectral',\n",
       " 'synthesis code originally designed for conditions in interstellar matter (ISM) but can be',\n",
       " 'used for the late phases of SN expansion. We plan to modify CLOUDY to allow for',\n",
       " 'treatment of “CSM—like” conditions at higher density, optically—thick regimes.',\n",
       " 'Given the limited computing time available restricting the option to fit simulated',\n",
       " 'LCs to transient data, we will make use of the open source Python—based SN LC fitting',\n",
       " 'code TigerFit (Chatzopoulos et al., 2013b) developed by the PI. TigerFit uses reduced χ2',\n",
       " '—minimization techniques to fit a variety of SLSN power input models to observed',\n",
       " 'pseudo—bolometric LCs of SNe and is designed to be very intuitive and user—friendly.',\n",
       " 'The TigerFit fitting parameters will be used as initial guesses for the initial setups of the',\n",
       " 'more computationally expensive radiation hydrodynamics simulations. This way, we will',\n",
       " 'maintain a real data—driven modeling approach for our computational campaign.',\n",
       " 'It is imperative to stress that we will aim for our predictions to be in agreement',\n",
       " 'with the overall observed time evolution of events (and specifically spectral evolution).',\n",
       " '\"4',\n",
       " '',\n",
       " '\\x0cIn other words, model spectra at certain epochs must compare well with observed spectra',\n",
       " 'at the same epochs in order to make a compelling case, as emphasized in (Dessart et al.,',\n",
       " '2013).',\n",
       " 'Multi—dimensional radiation transport of Supernova Ejecta—CSM interaction',\n",
       " 'The aim of the proposed work is to model the processes that determine the final',\n",
       " 'observed properties of newly discovered SLSNe and unusual transients, both in terms of',\n",
       " 'the LC and the spectra, accurately throughout their evolution. In addition, predictions will',\n",
       " 'be provided for transient events expected to be discovered by the upcoming transient',\n",
       " 'surveys (such as ZTF, LSST) and current and next generation space telescopes (HST,',\n",
       " 'JWST, WFIRST). This will be achieved by modifying and extending existing numerical',\n",
       " 'tools ranging from stellar evolution to radiation hydrodynamics and radiation transport in',\n",
       " 'order to account for processes pertinent to CSM interaction, a model considered to be',\n",
       " 'increasingly relevant for many of these events. More specifically, we have the following',\n",
       " 'goals:',\n",
       " 'i) Modeling of H—poor SN ejecta—CSM interaction in the context of SLSNe.',\n",
       " 'ii) Modeling and interpretation of SLSN LCs and spectra and unusual transients via',\n",
       " 'direct fits to data.',\n",
       " 'iii) 1D, 2D and 3D simulations of CSM interaction for a variety of CSM geometries',\n",
       " 'including interaction due to pulsational PISNe.',\n",
       " 'iv) Design of a library of model LCs and spectra for different power inputs and CSM',\n",
       " 'interaction properties to compare against upcoming observations by the future surveys.',\n",
       " 'To address aim (i) we will put significant efforts in extending the radiation',\n",
       " 'transport codes SuperNu, TARDIS and CLOUDY, each of which uses a different',\n",
       " 'numerical treatment of radiation transport and is valid in certain physical regimes. In',\n",
       " 'particular, we are interested in modeling the spectra produced during SN ejecta—CSM',\n",
       " 'interaction for a variety of conditions in terms of the properties of the CSM (composition,',\n",
       " 'temperature, density and expansion velocity). To do so, we will invoke nLTE physics and',\n",
       " 'relax the condition for homologous expansion of the SN ejecta as appropriate for CSM',\n",
       " 'interaction schemes. Although our primary radiation transport code is SuperNu,',\n",
       " 'developed by one of our collaborators (Ryan Wollaeger; LANL), we still want to use',\n",
       " 'other tools to perform code—to—code comparisons and assess the validity of our results',\n",
       " 'under different numerical treatments. The PI and his LANL collaborators have already',\n",
       " 'computed a list of RAGE radiation hydrodynamics SN ejecta—CSM interaction models',\n",
       " 'for different parameters and we will use the outputs for post—processing with SuperNu.',\n",
       " 'If needed, we will also perform additional RAGE simulations to cover areas of the',\n",
       " 'relevant parameter space that we missed. This study will help us answer important',\n",
       " 'questions like: (a) what do H—poor CSM interaction spectra look like and how do they',\n",
       " 'compare to observations of SLSN—I events? (b) is there a parameter space in which',\n",
       " 'known signatures of CSM interaction (like narrow emission line components prevalent in',\n",
       " 'SN Type IIn spectra) are obscured or suppressed? (c) How do our results for H—rich',\n",
       " 'CSM interaction compare to those of Dessart et al. (2015) calculated with a different code',\n",
       " 'and approximations for the emission lines?',\n",
       " '\"5',\n",
       " '',\n",
       " '\\x0cTo address aim (ii) we will use data from current surveys like Pan—STARRS and',\n",
       " 'ASASSN and follow up observations by the Las Cumbres Observatory (LCO) as well as',\n",
       " 'new and archival SLSN and peculiar transient data published in the literature. As a first',\n",
       " 'step, we will aim to determine the power input source for these events by fitting their',\n",
       " 'pseudo—bolometric LC data with TigerFit and the properties involved in an attempt to',\n",
       " 'eliminate models and focus on the most promising candidate mechanisms. Consequently,',\n",
       " 'TigerFit will provide us with parameter fits that can be used as a starting point to set up',\n",
       " 'rigorous radiation transfer calculations with FLASH and SNEC that we will also modify',\n",
       " 'to include alternative to radioactive decay of 56Ni power input mechanisms (magnetar',\n",
       " 'spin—down and CSM interaction). Of course, significant 1D modeling will be done with',\n",
       " 'the upcoming version of MESA that will include radiation diffusion for the computation',\n",
       " 'of LCs. MESA will also serve as the tool we use to compute initial supernova progenitor',\n",
       " 'models that will be seeded in FLASH and SNEC. This will give us the flexibility to',\n",
       " 'consider “engineered\" initial stellar models that can account for the observed LC',\n",
       " 'properties of some peculiar supernovae and other interesting transients.',\n",
       " 'Next, to address aim (iii), we will extend the radiation hydrodynamics module of',\n",
       " 'FLASH to treat 2D cylindrical and 3D cartesian geometries allowing us to perform multi',\n",
       " '—dimensional simulations of SN ejecta—CSM interaction for a variety of CSM',\n",
       " 'geometries including PPISN shell collision scenarios. The set of CSM geometries that we',\n",
       " 'will survey in 3D includes spherical, bipolar (η—Carinae like), clumpy and disk—like',\n",
       " 'distributions. The results will be post—processed with SuperNu to compute spectra and',\n",
       " 'assess geometrical effects by considering different lines of sight with respect to the',\n",
       " 'aspherical CSM distributions. This will be the first study attempting to model the effects',\n",
       " 'of CSM interaction in supernova LCs and spectra in 2D and 3D in detail and provide us',\n",
       " 'with more conclusive insights on the relevance of this mechanism to both SLSN—I and',\n",
       " 'SLSN—II events.',\n",
       " 'Finally, aim (iv) will be made possible by the accumulation of multiple—code',\n",
       " 'model LCs and spectra computed throughout the bulk of the proposed project. The goal is',\n",
       " 'to put our simulated data in an open online catalog accessible by the community and have',\n",
       " 'it serve as a library for comparison against new SLSNe and peculiar transient events',\n",
       " 'discovered by current and future surveys in order to assist the community to interpret',\n",
       " 'some of these events. This proposed online library will be maintained and updated by the',\n",
       " 'PI and some of the collaborators throughout and beyond the completion of this project',\n",
       " 'and will welcome the contribution of results from other groups too for the overall benefit',\n",
       " 'of time domain astronomy and the study and interpretation of transient phenomena.',\n",
       " 'Schedule',\n",
       " 'Fall 2017: Computation of numerical model LCs using 1D FLASH radiation',\n",
       " 'hydrodynamics, the LANL codes, SNEC, SuperNu and MESA (where appropriate) for',\n",
       " 'SLSN ejecta - CSM interaction and direct comparisons to observed data. Publication of',\n",
       " 'results. Also, expansion of the capabilities of TARDIS, CLOUDY and SuperNu to treat',\n",
       " 'non—LTE radiation transfer for non—homologously expanding ejecta as appropriate for',\n",
       " 'CSM interaction conditions. The new code capabilities will also be verified by means of',\n",
       " '\"6',\n",
       " '',\n",
       " '\\x0ccomparing model SLSN—II spectra, that are unambiguously due to CSM interaction, to',\n",
       " 'observations of events like SN 2006gy.',\n",
       " 'Spring 2017: Use updated radiation transport codes to calculate spectra in the context of',\n",
       " 'H—poor CSM interaction and compare against SLSN—I events. Calculate CSM',\n",
       " 'interaction spectra across the relevant parameter space in CSM density and composition',\n",
       " 'to investigate if conditions exist that allow for the obscuration of the typical CSM',\n",
       " 'interaction spectral signs (narrow emission line components). Publication of results.',\n",
       " 'Summer 2018 and beyond: Expand FLASH capabilities to treat equations of radiation',\n",
       " 'hydrodynamics in 2D cylindrical and 3D Cartesian geometry. Perform first 2D and 3D',\n",
       " 'radiation hydrodynamics simulations of SN ejecta—CSM interaction for a variety of',\n",
       " 'CSM geometries using FLASH. Post—processing of multi—dimensional FLASH CSM',\n",
       " 'interaction simulations with extended version of SuperNu to compute CSM interaction',\n",
       " 'spectra for different regions of the parameter space.',\n",
       " '',\n",
       " '• Management Plan',\n",
       " 'The PI will work in collaboration with a group of observers and theorists with',\n",
       " 'diverse skill sets to bring this project to fruition. Our collaborators include computational',\n",
       " 'astrophysicists at LANL, observers involved with several transient search projects and',\n",
       " 'with experience in reducing data from HST and other facilities, and colleagues',\n",
       " 'specializing in computing and algorithmic development. The PI expects to hire one',\n",
       " 'postdoctoral researcher out of his startup funds at LSU and looks to employ a graduate',\n",
       " 'student to be trained in using and extending the codes used in this project, as well as',\n",
       " 'provide support for travel to relevant conferences.',\n",
       " 'The PI and many of the collaborators involved in the proposed project already',\n",
       " \"have access and computing time to some of the country's premier high performance\",\n",
       " 'computing facilities including the Extreme Science and Engineering Discovery',\n",
       " 'Environment (XSEDE) and the Argonne Leadership Computing Facility (ALCF). More',\n",
       " \"specifically, the PI's collaboration with Dr. J. Craig Wheeler provides access of up to\",\n",
       " '200,000 core—hours per quarter on the Texas Advanced Computing Center Stampede',\n",
       " '(TACC) Stampede supercomputer. Another 100,000 guaranteed core—hours on LSU’s',\n",
       " 'High Performance Computing (HPC) and Louisiana Optical Network Initiative (LONI)',\n",
       " 'resources (SuperMIC, SuperMike—II and QB2) are already available to the PI with the',\n",
       " 'flexibility of quick renewal and extension. We also have partial allocation of time on the',\n",
       " 'ALCF Mira supercomputer through the PIs involvement in the INCITE award “Petascale',\n",
       " 'Simulation of Magnetorotational Core—Collapse Supernovae\" led by Dr. Sean Couch at',\n",
       " 'Michigan State University. Finally, our LANL collaborators have access to three million',\n",
       " 'core—hours a year at their institutional High Performance Computing Resources (HPC):',\n",
       " '(the Pinto, Wolf and Grizzly clusters) where the RAGE and SuperNu runs will be',\n",
       " 'performed and they are working closely with the Southwest Research Institute to make',\n",
       " 'our model LCs available to the public online through the SuperNova Analysis',\n",
       " 'Application (SNAP) database. Most of the preliminary 1D and 2D runs can be performed',\n",
       " \"at the PI's personal 12—core MacPro computer while for the 3D runs we will utilize our\",\n",
       " 'current above—mentioned allocations in parallel systems and request for more',\n",
       " '\"7',\n",
       " '',\n",
       " '\\x0ccomputing time as needed along the course of the project by applying to XSEDE and',\n",
       " 'ALCF resources. The total computing time needed for the majority of our calculation is',\n",
       " 'thus already available to our team and more time will be requested only for the 3D CSM',\n",
       " 'interaction simulations we plan to do in Year 3.',\n",
       " '',\n",
       " 'Figure 1. Left: LCs of SLSNe (SN 2005ap, SN 2006gy and SN 2006tf) compared to those of',\n",
       " 'some SNe of regular types (Smith et al. 2008). Right: Comparison between the spectra of',\n",
       " 'the SLSN-II SN 2006gy (+52 rest—frame days post—maximum) and the SLSN—I',\n",
       " 'SN2007bi (+54 rest—frame days post—maximum). The spectra data is courtesy of the',\n",
       " 'Weizmann Interactive Supernova Data Repository (WISeREP; Yaron & Gal—Yam 2012).',\n",
       " 'The diversity of SLSNe is prevalent both in terms of the light--curves and the spectra. Our',\n",
       " 'proposal is aimed at addressing this diversity by investigating models across the',\n",
       " 'parameter space associated with some of the underlying physical mechanisms.',\n",
       " '',\n",
       " 'Figure 2. Left: Hubble Space Telescope (HST) image of the η—Carinae nebula. The total',\n",
       " 'mass of the central object in the nebula is estimated to be 100 M◉ and it is thought to be a',\n",
       " 'massive close binary system. The bipolar shape of the homunculus nebula is attributed to',\n",
       " 'the combined effects of eruptive mass loss and binary interaction. Right: A three—',\n",
       " 'dimensional setup of SN ejecta—CSM interaction performed with the FLASH code. In this',\n",
       " 'case, the explosion of a red supergiant star with initial radius ~3.4 x 1013 cm will lead to the',\n",
       " 'interaction of the SN ejecta with a spherical CSM shell of density 10-12 g cm-3 (yellow color).',\n",
       " 'CSM environments around massive stars influence the radiative properties of their',\n",
       " 'supernova explosions.',\n",
       " '\"8',\n",
       " '',\n",
       " '\\x0cREFERENCES',\n",
       " 'Adams, S. M., Kochanek, C. S., Prieto, J. L., et al. 2016, MNRAS, 460, 1645',\n",
       " 'Bellm, E. 2014, in The Third Hot-wiring the Transient Universe Workshop, ed. P. R.',\n",
       " 'Wozniak, M. J. Graham, A. A. Mahabal, & R. Seaman, 27–33, 1410.8185',\n",
       " 'Brown, P. J. et al. 2016, ApJ, 828, 3, 1605.03951',\n",
       " 'Bucciantini, N., Thompson, T. A., Arons, J., Quataert, E., & Del Zanna, L. 2006,',\n",
       " 'MNRAS, 368, 1717, astro-ph/0602475',\n",
       " 'Chatzopoulos, E., van Rossum, D. R., Craig, W. J., Whalen, D. J., Smidt, J., & Wiggins,',\n",
       " 'B. 2015, ApJ, 799, 18, 1410.0039',\n",
       " 'Chatzopoulos, E., & Wheeler, J. C. 2012a, ApJ, 748, 42, 1201.1328',\n",
       " 'Chatzopoulos, E., & Wheeler, J. C. 2012b, ApJ, 760, 154, 1210.1617',\n",
       " 'Chatzopoulos, E., Wheeler, J. C., & Couch, S. M. 2013a, ApJ, 776, 129, 1308.4660',\n",
       " 'Chatzopoulos, E., Wheeler, J. C., Vinko, J., Horvath, Z. L., & Nagy, A. 2013b, ApJ, 773,',\n",
       " '76,',\n",
       " 'Chatzopoulos, E., Wheeler, J. C., Vinko, J., Nagy, A. P., Wiggins, B. K., & Even, W. P.',\n",
       " '2016, ApJ, 828, 94, 1603.06926',\n",
       " 'Chatzopoulos, E. et al. 2011, ApJ, 729, 143, 1101.3581',\n",
       " 'Cooke, J. et al. 2012, Nature, 491, 228',\n",
       " 'Crowther, P. A., et al., 2010, MNRAS, 408, 731',\n",
       " 'Dessart, L., Audit, E., & Hillier, D. J. 2015, MNRAS, 449, 4304, 1503.05463',\n",
       " 'Dessart, L., Hillier, D. J.,Waldman, R., Livne, E., & Blondin, S. 2012, MNRAS, 426,',\n",
       " 'L76, 1208.1214',\n",
       " 'Dessart, L., Waldman, R., Livne, E., Hillier, D. J., & Blondin, S. 2013, MNRAS, 428,',\n",
       " '3227, 1210.6163',\n",
       " 'Dong, S. et al. 2016, Science, 351, 257, 1507.03010',\n",
       " 'Drake, A. J. et al. 2011, ApJ, 735, 106, 1103.5514',\n",
       " 'Drake, A. J. et al. 2009, ApJ, 696, 870, 0809.1394',\n",
       " 'Dubey, A., Daley, C., ZuHone, J., Ricker, P. M., Weide, K., & Graziani, C. 2012, ApJS,',\n",
       " '201, 27',\n",
       " 'Ferland, G. J. et al. 2013, Revista Mexicana de Astronoma y Astrofisica, 49, 137,',\n",
       " '1302.4485',\n",
       " 'Frank, J., & Rees, M. J. 1976, MNRAS, 176, 633',\n",
       " 'Frey, L. H., Even, W., Whalen, D. J., Fryer, C. L., Hungerford, A. L., Fontes, C. J., &',\n",
       " 'Colgan, J. 2013, ApJS, 204, 16, 1203.5832',\n",
       " 'Fryxell, B. et al. 2000, ApJS, 131, 273',\n",
       " 'Gal-Yam, A. et al. 2009, Nature, 462, 624, 1001.1156',\n",
       " 'Gerke, J. R., Kochanek, C. S., & Stanek, K. Z. 2015, MNRAS, 450, 3289, 1411.1761',\n",
       " 'Gezari, S. et al. 2009, ApJ, 698, 1367, 0904.1596',\n",
       " 'Gezari, S. et al. 2012, Nature, 485, 217, 1205.0252',\n",
       " 'Gittings, M. et al. 2008, Computational Science and Discovery, 1, 015005, 0804.1394',\n",
       " 'Inserra, C. et al. 2013, ApJ, 770, 128, 1304.3320',\n",
       " 'Ivezic, Z. et al. 2008, Serbian Astronomical Journal, 176, 1',\n",
       " '\"9',\n",
       " '',\n",
       " '\\x0cKaiser, N. et al. 2002, in Proceedings of the SPIE, Vol. 4836, Survey and Other Telescope',\n",
       " 'Technologies and Discoveries, ed. J. A. Tyson & S. Wolff, 154–164',\n",
       " 'Kasen, D., & Bildsten, L. 2010, ApJ, 717, 245, 0911.0680',\n",
       " 'Kasen, D., Metzger, B. D., & Bildsten, L. 2016, ApJ, 821, 36, 1507.03645',\n",
       " 'Kasliwal, M. M. 2011, PhD thesis, California Institute of Technology',\n",
       " 'Keller, S. C. et al. 2007, Publications of the Astronomical Society of Australia, 24, 1,',\n",
       " 'astroph/0702511',\n",
       " 'Kerzendorf, W. E., & Sim, S. A. 2014, MNRAS, 440, 387, 1401.5469',\n",
       " 'Law, N. M. et al. 2009, PASP, 121, 1395, 0906.5350',\n",
       " 'Leloudas, G. et al. 2012, A&A, 541, A129, 1201.5393',\n",
       " 'Leloudas, G. et al. 2016, ArXiv e-prints, 1609.02927',\n",
       " 'Mauerhan, J. C. et al. 2013, MNRAS, tmp, 749',\n",
       " 'Milisavljevic, D., Fesen, R. A., Leibundgut, B., & Kirshner, R. P. 2008, ApJ, 684, 1170',\n",
       " 'Metzger, B. D., Margalit, B., Kasen, D., & Quataert, E. 2015, MNRAS, 454, 3311,',\n",
       " '1508.02712',\n",
       " 'Miller, A.A., et al., 2009, ApJ, 690, 1303',\n",
       " 'Morozova, V., Ott, C. D., & Piro, A. L. 2015, SNEC: SuperNova Explosion Code,',\n",
       " 'Astrophysics Source Code Library, 1505.033',\n",
       " 'Paxton, B., Bildsten, L., Dotter, A., Herwig, F., Lesaffre, P., & Timmes, F. 2011, ApJS,',\n",
       " '192, 3, 1009.1622',\n",
       " 'Paxton, B. et al. 2013, ApJS, 208, 4, 1301.0319',\n",
       " 'Paxton, B. et al. 2015, ApJS, 220, 15, 1506.03146',\n",
       " 'Postman, M. et al. 2102, ApJS, 199, 25',\n",
       " 'Quimby, R. M., Aldering, G., Wheeler, J. C., Hoflich, P., Akerlof, C. W., & Ryko, E. S.',\n",
       " '2007, ApJL, 668, L99, 0709.0302',\n",
       " 'Quimby, R. M. et al. 2011, Nature, 474, 487, 0910.0059',\n",
       " 'Rodney, S. A. et al. 2016, ApJ, 820, 50, 1512.05734',\n",
       " 'Sana, H. et al. 2012, Science, 337, 444, 1207.6397',\n",
       " 'Shappee, B. J. et al. 2014, ApJ, 788, 48, 1310.2241',\n",
       " 'Shiode, J. H., & Quataert, E. 2014, ApJ, 780, 96, 1308.5978',\n",
       " 'Shporer, A., Brown, T., Lister, T., Street, R., Tsapras, Y., Bianco, F., Fulton, B., & Howell,',\n",
       " 'A. 2011, in IAU Symposium, Vol. 276, The Astrophysics of Planetary Systems:',\n",
       " 'Formation, Structure, and Dynamical Evolution, ed. A. Sozzetti, M. G. Lattanzi, & A. P.',\n",
       " 'Boss, 553–555, 1011.6394',\n",
       " 'Smidt, J., Whalen, D. J., Chatzopoulos, E., Wiggins, B., Chen, K.-J., Kozyreva, A., &',\n",
       " 'Even, W. 2015, ApJ, 805, 44, 1411.5377',\n",
       " 'Smith, N., Chornock, R., Li, W., Ganeshalingam, M., Silverman, J. M., Foley, R. J.,',\n",
       " 'Filippenko, A. V., & Barth, A. J. 2008, ApJ, 686, 467, 0804.0042',\n",
       " 'Smith, N. et al. 2007, ApJ, 666, 1116, astro-ph/0612617',\n",
       " 'Smith, N., & McCray, R. 2007, ApJL, 671, L17, 0710.3428',\n",
       " 'Smith, N., Miller, A., Li, W., et al. 2010, AJ, 139, 1451',\n",
       " 'Sorokina, E., Blinnikov, S., Nomoto, K., Quimby, R., & Tolstov, A. 2016, ApJ, 829, 17,',\n",
       " '1510.00834',\n",
       " '\"10',\n",
       " '',\n",
       " '\\x0cSukhbold, T., & Woosley, S. E. 2016, ApJL, 820, L38, 1602.04865',\n",
       " 'Wang, L.-J., Wang, S. Q., Dai, Z. G., Xu, D., Han, Y.-H., Wu, X. F., & Wei, J.-Y. 2016,',\n",
       " 'ApJ, 821, 22, 1602.06190',\n",
       " 'Whalen, D. J. et al. 2013, ApJ, 777, 110, 1211.4979',\n",
       " 'Wollaeger, R. T., & van Rossum, D. R. 2014, ApJS, 214, 28, 1407.3833',\n",
       " 'Woosley, S. E. 2010, ApJL, 719, L204, 0911.0698',\n",
       " 'Woosley, S. E., Blinnikov, S., & Heger, A. 2007, Nature, 450, 390, 0710.3314',\n",
       " 'Yaron, O., & Gal-Yam, A. 2012, PASP, 124, 668, 1204.1891',\n",
       " 'Yuan, F. et al. 2007, in Bulletin of the American Astronomical Society, Vol. 39, American',\n",
       " 'Astronomical Society Meeting Abstracts, 929',\n",
       " '',\n",
       " '\"11',\n",
       " '',\n",
       " '\\x0c']"
      ]
     },
     "execution_count": 6,
     "metadata": {},
     "output_type": "execute_result"
    }
   ],
   "source": [
    "text"
   ]
  },
  {
   "cell_type": "code",
   "execution_count": 7,
   "metadata": {},
   "outputs": [],
   "source": [
    "# Generate a lexicon by separating all of the words at spaces\n",
    "lexicon = [val.split(' ')[0] for val in text if val != '']"
   ]
  },
  {
   "cell_type": "code",
   "execution_count": 8,
   "metadata": {},
   "outputs": [
    {
     "name": "stdout",
     "output_type": "stream",
     "text": [
      "Hubble\n",
      "Cycle\n",
      "1\n",
      "Numerical\n",
      "Supernovae\n",
      "Scientific\n",
      "Scientific\n",
      "Budget\n",
      "Theory:\n",
      "Abstract\n"
     ]
    }
   ],
   "source": [
    "for word in lexicon[:10]:\n",
    "        print(word)"
   ]
  },
  {
   "cell_type": "code",
   "execution_count": 9,
   "metadata": {},
   "outputs": [],
   "source": [
    "# Tokenize words in the lexicon\n",
    "lexicon = [word_tokenize(word) for word in lexicon if len(word) != 0]"
   ]
  },
  {
   "cell_type": "code",
   "execution_count": 10,
   "metadata": {},
   "outputs": [],
   "source": [
    "def nltk2wn_tag(nltk_tag):\n",
    "    \"\"\"\n",
    "    Convenience function for converting NLTK Part of Speech (POS) tags to wordnet equivalents\n",
    "    \"\"\"\n",
    "    if nltk_tag.startswith('J'):\n",
    "        return wordnet.ADJ\n",
    "    elif nltk_tag.startswith('V'):\n",
    "        return wordnet.VERB\n",
    "    elif nltk_tag.startswith('N'):\n",
    "        return wordnet.NOUN\n",
    "    elif nltk_tag.startswith('R'):\n",
    "        return wordnet.ADV\n",
    "    else:\n",
    "        # If it's unclear what it is, just assume the default [NOUN]\n",
    "        return wordnet.NOUN"
   ]
  },
  {
   "cell_type": "code",
   "execution_count": 11,
   "metadata": {},
   "outputs": [],
   "source": [
    "# Determine the proper parts-of-speech tag for each token and convert them from NLTK to wordnet\n",
    "final_lexicon = []\n",
    "for lex in lexicon[:-1]:\n",
    "    pos_tag = nltk.pos_tag(lex)  # determine the part of speech (POS) tag\n",
    "    wdnet_pos_tag = nltk2wn_tag(pos_tag[0][1])  # retrieve the wordnet equivalent POS\n",
    "    final_lexicon.append((lex[0], wdnet_pos_tag))  # append the word and it's wordnet POS to a final lexicon"
   ]
  },
  {
   "cell_type": "code",
   "execution_count": 12,
   "metadata": {},
   "outputs": [
    {
     "data": {
      "text/plain": [
       "('Hubble', 'a')"
      ]
     },
     "execution_count": 12,
     "metadata": {},
     "output_type": "execute_result"
    }
   ],
   "source": [
    "final_lexicon[0]"
   ]
  },
  {
   "cell_type": "code",
   "execution_count": 13,
   "metadata": {},
   "outputs": [],
   "source": [
    "# Use the wordnet lemmatizer to group together various forms of a word\n",
    "lemmatizer = WordNetLemmatizer()"
   ]
  },
  {
   "cell_type": "code",
   "execution_count": 14,
   "metadata": {},
   "outputs": [],
   "source": [
    "# Use the robust Porter Stemmer to reduce words to their stems\n",
    "stemmer = porter.PorterStemmer()"
   ]
  },
  {
   "cell_type": "code",
   "execution_count": 15,
   "metadata": {},
   "outputs": [
    {
     "name": "stdout",
     "output_type": "stream",
     "text": [
      "Word: ('Hubble', 'a') \n",
      "Lemma: Hubble\n",
      "Stem: hubbl\n",
      "\n",
      "Word: ('Cycle', 'n') \n",
      "Lemma: Cycle\n",
      "Stem: cycl\n",
      "\n",
      "Word: ('1', 'n') \n",
      "Lemma: 1\n",
      "Stem: 1\n",
      "\n",
      "Word: ('Numerical', 'a') \n",
      "Lemma: Numerical\n",
      "Stem: numer\n",
      "\n",
      "Word: ('Supernovae', 'n') \n",
      "Lemma: Supernovae\n",
      "Stem: supernova\n",
      "\n",
      "Word: ('Scientific', 'n') \n",
      "Lemma: Scientific\n",
      "Stem: scientif\n",
      "\n",
      "Word: ('Scientific', 'n') \n",
      "Lemma: Scientific\n",
      "Stem: scientif\n",
      "\n",
      "Word: ('Budget', 'v') \n",
      "Lemma: Budget\n",
      "Stem: budget\n",
      "\n",
      "Word: ('Theory', 'n') \n",
      "Lemma: Theory\n",
      "Stem: theori\n",
      "\n",
      "Word: ('Abstract', 'n') \n",
      "Lemma: Abstract\n",
      "Stem: abstract\n",
      "\n"
     ]
    }
   ],
   "source": [
    "for lex in final_lexicon[:10]:\n",
    "    print(f'Word: {lex} \\nLemma: {lemmatizer.lemmatize(lex[0], pos=lex[1])}\\nStem: {stemmer.stem(lex[0])}\\n')"
   ]
  },
  {
   "cell_type": "markdown",
   "metadata": {},
   "source": [
    "<hr>"
   ]
  },
  {
   "cell_type": "markdown",
   "metadata": {},
   "source": [
    "### Perform the same steps using a class-based approach with spaCy.\n",
    "\n",
    "- spaCy is different in that it prefers to receive the abstract in a single chunk "
   ]
  },
  {
   "cell_type": "code",
   "execution_count": 16,
   "metadata": {},
   "outputs": [],
   "source": [
    "# Import spaCy packages\n",
    "import spacy\n",
    "from spacy.lang.en import English\n",
    "import string"
   ]
  },
  {
   "cell_type": "code",
   "execution_count": 17,
   "metadata": {},
   "outputs": [],
   "source": [
    "nlp = spacy.load(\"en_core_web_sm\")"
   ]
  },
  {
   "cell_type": "code",
   "execution_count": 18,
   "metadata": {},
   "outputs": [
    {
     "name": "stdout",
     "output_type": "stream",
     "text": [
      "326\n"
     ]
    }
   ],
   "source": [
    "# Stop words already exist within the package\n",
    "print(len(nlp.Defaults.stop_words))"
   ]
  },
  {
   "cell_type": "code",
   "execution_count": 19,
   "metadata": {},
   "outputs": [
    {
     "name": "stdout",
     "output_type": "stream",
     "text": [
      "339\n"
     ]
    }
   ],
   "source": [
    "# Stop words from our text file\n",
    "print(len(stop_words))"
   ]
  },
  {
   "cell_type": "code",
   "execution_count": 20,
   "metadata": {},
   "outputs": [],
   "source": [
    "# Store stop words as a set\n",
    "spacy_stop = set(nlp.Defaults.stop_words)\n",
    "custom_stop = set(stop_words)"
   ]
  },
  {
   "cell_type": "code",
   "execution_count": 21,
   "metadata": {},
   "outputs": [
    {
     "name": "stdout",
     "output_type": "stream",
     "text": [
      "49\n"
     ]
    }
   ],
   "source": [
    "# Compare stop words in order to add in missing stop words\n",
    "missing_stop_words = custom_stop.difference(spacy_stop)\n",
    "print(len(missing_stop_words))"
   ]
  },
  {
   "cell_type": "code",
   "execution_count": 22,
   "metadata": {},
   "outputs": [],
   "source": [
    "# combine them into a single list of stop words\n",
    "nlp.Defaults.stop_words |= set(missing_stop_words)"
   ]
  },
  {
   "cell_type": "code",
   "execution_count": 23,
   "metadata": {},
   "outputs": [
    {
     "name": "stdout",
     "output_type": "stream",
     "text": [
      "375\n"
     ]
    }
   ],
   "source": [
    "print(len(nlp.Defaults.stop_words))"
   ]
  },
  {
   "cell_type": "code",
   "execution_count": 24,
   "metadata": {},
   "outputs": [],
   "source": [
    "# Read in example scientific justification text file\n",
    "with open('../proposal_data/Cycle25/0002.txtx', 'r') as test_file:\n",
    "    t = test_file.readlines()\n",
    "    scijust = [val.strip('\\n') for val in t]\n",
    "    scijust = ' '.join(scijust) "
   ]
  },
  {
   "cell_type": "code",
   "execution_count": 25,
   "metadata": {},
   "outputs": [
    {
     "name": "stdout",
     "output_type": "stream",
     "text": [
      "6151\n"
     ]
    }
   ],
   "source": [
    "scidoc = nlp(scijust)\n",
    "print(len(scidoc))"
   ]
  },
  {
   "cell_type": "code",
   "execution_count": 26,
   "metadata": {},
   "outputs": [],
   "source": [
    "trim_stop_words = []\n",
    "autogen_stop_words = []"
   ]
  },
  {
   "cell_type": "code",
   "execution_count": 27,
   "metadata": {},
   "outputs": [],
   "source": [
    "# Remove stop words from document\n",
    "for token in scidoc:\n",
    "    if token.is_stop:\n",
    "        autogen_stop_words.append(token)\n",
    "        continue\n",
    "    trim_stop_words.append(token)"
   ]
  },
  {
   "cell_type": "code",
   "execution_count": 28,
   "metadata": {},
   "outputs": [
    {
     "name": "stdout",
     "output_type": "stream",
     "text": [
      "0.7120793366932207\n"
     ]
    }
   ],
   "source": [
    "print(len(trim_stop_words)/len(scidoc))"
   ]
  },
  {
   "cell_type": "code",
   "execution_count": 29,
   "metadata": {},
   "outputs": [],
   "source": [
    "# Create list of punctuation marks\n",
    "punctuations = string.punctuation\n",
    "\n",
    "# Load English tokenizer, tagger, parser, NER and word vectors\n",
    "parser = English()\n",
    "\n",
    "# Creating our tokenizer function\n",
    "def spacy_tokenizer(text, return_type='str'):\n",
    "    # Creating our token object, which contains each word token parsed from the text.\n",
    "    mytokens = parser(text)\n",
    "    num_tokens = len(mytokens)\n",
    "    # Next, lemmatize each token and standardize the capitalization to be lower case\n",
    "    mytokens = [\n",
    "        word.lemma_.lower().strip()\n",
    "        if word.lemma_ != \"-PRON-\" else word.lower_ \n",
    "        for word in mytokens \n",
    "    ]\n",
    "\n",
    "    # Removing stop words and punctuation\n",
    "    mytokens = [\n",
    "        word for word in mytokens \n",
    "        if word not in stop_words and word not in punctuations\n",
    "    ]\n",
    "    print(f\"Processed text represents {len(mytokens)/num_tokens:0.2f}% of the input text\")\n",
    "    \n",
    "    return mytokens"
   ]
  },
  {
   "cell_type": "code",
   "execution_count": 30,
   "metadata": {},
   "outputs": [
    {
     "name": "stdout",
     "output_type": "stream",
     "text": [
      "Processed text represents 0.51% of the input text\n"
     ]
    }
   ],
   "source": [
    "tokens = spacy_tokenizer(scijust)"
   ]
  },
  {
   "cell_type": "code",
   "execution_count": 31,
   "metadata": {},
   "outputs": [
    {
     "name": "stdout",
     "output_type": "stream",
     "text": [
      "['hubble', 'space', 'telescope', '2', 'cycle', '25', 'proposal', 'blue', 'diffuse', 'dwarfs', 'missing', 'link', 'dwarf', 'galaxy', 'evolution', 'scientific', 'category', 'galaxies', 'igm', 'scientific', 'keywords', 'dwarf', 'galaxies', 'galaxy', 'formation', 'evolution', 'irregular', 'galaxies', 'star', 'formation', 'histories', 'stellar', 'populations', 'instruments', 'acs', 'wfc3', 'proprietary', 'period', '6', 'months', 'proposal', 'size', 'small', 'orbit', 'request', 'prime', 'parallel', 'cycle', '25', '10', '10', 'abstract', 'dwarf', 'galaxies', 'systems', 'form', 'stars', 'universe', 'understanding', 'starformation', 'histories', 'sfh', 'cosmic', 'time', 'imperative', 'galaxy', 'formation', 'evolution', 'studies', 'particular', 'understanding', 'metal', 'poor', 'systems', 'blue', 'compact', 'dwarf', 'bcd', 'galaxies', 'remain', 'chemically', 'pristine', 'despite', 'long', 'periods', 'moderate', 'sf', 'recent', 'burst', 'remains', 'challenge', 'understand', 'starbursting', 'bcds', 'quiescent', 'dwarf', 'irregulars', 'dirrs', 'similar', 'sfhs', 'despite', 'order', 'magnitude', 'difference', 'sf', 'activity', 'answers', 'questions', 'new', 'population', 'sf', 'dwarf', 'galaxies', 'recently', 'uncovered', 'blue', 'diffuse', 'dwarf', 'bdd', 'galaxies', 'bdds', 'isolated', 'chemically', 'young', 'actively', 'forming', 'stars', 'blue', 'low', 'surface', 'brightness', 'continuum', 'properties', 'suggest', 'evolutionary', 'link', 'dirrs', 'bcds', 'chosen', 'closest', 'bdds', 'resolve', 'stellar', 'populations', 'hst', 'sample', 'sfhs', 'different', 'evolutionary', 'epochs', 'target', 'observed', 'acs', 'wfc', 'f606w', 'f814w', 'plus', 'f658n', 'correct', 'broad', 'f606w', 'halpha', 'gas', 'contamination', 'total', '10', 'orbits', 'deep', 'color', 'magnitude', 'diagrams', 'cmds', 'reaching', 'depth', 'mag', 'predicted', 'rgb', 'tip', 'constructed', 'interpreted', 'based', 'synthetic', 'cmd', 'fitting', 'data', 'bdds', 'sfhs', 'intermediate', 'bcds', 'dirrs', 'ii', 'previously', 'unseen', 'sfh', 'short', 'moderate', 'bursts', 'iii', 'forming', 'stars', 'time', 'resolving', 'sfhs', 'way', 'unambiguously', 'determine', 'true', 'role', 'dwarf', 'galaxy', 'evolution', 'blue', 'diffuse', 'dwarfs', 'missing', 'link', 'dwarf', 'galaxy', 'evolution', 'investigators', 'investigator', 'institution', 'country', 'aloisi', 'space', 'telescope', 'science', 'institute', 'usa', 'md', 'v', 'belokurov', 'university', 'cambridge', 'gbr', 'm', 'cignoni', 'universita', 'di', 'pisa', 'ita', 'b', 'james', 'space', 'telescope', 'science', 'institute', 'esa', 'usa', 'md', 's', 'koposov', 'carnegie', 'mellon', 'university', 'usa', 'pa', 'k', 'mcquinn', 'university', 'texas', 'austin', 'usa', 'tx', 'm', 'pettini', 'university', 'cambridge', 'gbr', 'university', 'arizona', 'usa', 'az', 'd', 'stark', 'number', 'investigators', '8', 'esa', 'investigators', '4', 'target', 'summary', 'target', 'ra', 'dec', 'magnitude', 'jkb78', '09', '20', '36.0000', '+49', '40', '31.00', 'v', '18.47', 'jkb122', '12', '25', '42.0000', '+26', '48', '35.00', 'v', '16.29', 'jkb129', '00', '20', '41.0000', '+08', '37', '1.00', 'v', '16.92', 'observing', 'summary', 'target', 'config', 'mode', 'spectral', 'elements', 'jkb78', 'acs', 'wfc', 'imaging', 'f606w', 'flags', 'orbits', '3', 'acs', 'wfc', 'imaging', 'f814w', 'acs', 'wfc', 'imaging', 'f658n', 'jkb78', 'wfc3', 'uvis', 'imaging', 'f606w', 'cpar', '3', 'wfc3', 'uvis', 'imaging', 'f814w', 'wfc3', 'uvis', 'imaging', 'f658n', 'jkb122', 'acs', 'wfc', 'imaging', 'f606w', '3', 'acs', 'wfc', 'imaging', 'f814w', 'acs', 'wfc', 'imaging', 'f658n', 'jkb122', 'wfc3', 'uvis', 'imaging', 'f606w', 'cpar', '3', 'wfc3', 'uvis', 'imaging', 'f814w', 'wfc3', 'uvis', 'imaging', 'f658n', 'jkb129', 'acs', 'wfc', 'imaging', 'f606w', '4', 'blue', 'diffuse', 'dwarfs', 'missing', 'link', 'dwarf', 'galaxy', 'evolution', 'target', 'config', 'mode', 'spectral', 'elements', 'flags', 'orbits', 'cpar', '4', 'acs', 'wfc', 'imaging', 'f814w', 'jkb129', 'wfc3', 'uvis', 'imaging', 'f606w', 'wfc3', 'uvis', 'imaging', 'f814w', 'total', 'prime', 'orbits', '10', 'total', 'coordinated', 'parallel', 'orbits', '10', 'scientific', 'justification', 'metal', 'poor', 'dwarf', 'galaxies', 'cosmological', 'probes', 'high', 'z', 'star', 'formation', '9', 'according', 'hierarchical', 'formation', 'dwarf', 'm', '∼', '10', 'm', 'galaxies', 'systems', 'collapse', 'start', 'forming', 'stars', 'supplying', 'building', 'blocks', 'formation', 'massive', 'galaxies', 'merging', 'accretion', 'remnants', 'process', 'present', 'day', 'dwarfs', 'sites', 'earliest', 'star', 'formation', 'sf', 'activity', 'universe', 'chemically', 'unevolved', 'systems', 'young', 'stellar', 'populations', 'seen', 'nearby', 'guides', 'provide', 'essential', 'information', 'early', 'galaxy', 'formation', 'stellar', 'evolution', 'extracted', 'faint', 'systems', 'detected', 'z', '∼9–11', 'e.g.', 'ellis', '2013', 'oesch', '2016', 'understanding', 'true', 'modes', 'sf', 'cosmic', 'time', 'remains', 'longstanding', 'subject', 'extensive', 'efforts', 'past', 'pin', 'star', 'formation', 'histories', 'sfh', 'metal', 'poor', 'star', 'forming', 'dwarf', 'galaxies', 'youthful', 'appearance', 'suggested', 'scenarios', 'young', 'systems', 'undergoing', 'burst', 'sf', 'ii', 'experience', 'long', 'quiescent', 'periods', 'recent', 'starburst', 'despite', 'excellent', '‘', 'primeval', '’', 'galaxy', 'candidates', 'date', 'dwarf', 'irregular', 'dirr', 'blue', 'compact', 'dwarf', 'galaxies', 'bcds', 'resolved', 'hst', 'revealed', 'stars', 'old', 'look', 'time', 'sampled', 'depth', 'photometry', '∼1', 'gyr', 'older', 'e.g.', 'aloisi', '1999', '2007', 'izotov', 'thuan', '2002', 'scenario', 'ii', 'know', 'dwarf', 'galaxies', 'appear', '‘', 'gasping', '’', 'bursting', 'sfhs', 'i.e.', 'long', 'moderate', 'activity', 'short', 'quiescent', 'phases', 'annibali', '2003', 'furthermore', 'know', 'dirrs', 'bcds', 'similar', 'sfhs', 'despite', 'having', 'different', 'current', 'star', 'formation', 'rates', 'e.g.', 'fig', '4', 'aligning', 'knowledge', 'current', 'chemical', 'evolution', 'models', 'remains', 'major', 'challenge', 'annibali', '2015', 'systems', 'remain', 'chemically', 'pristine', 'roughly', 'continuous', 'sfhs', 'past', '1–2', 'gyr', 'metal', 'poor', 'systems', 'bcds', 'recent', 'bursts', 'sf', 'continuous', 'sf', 'similar', 'dirrs', 'bcds', 'dirrs', 'fundamentally', 'evolving', 'isolated', 'environments', 'e.g.', 'gallart', '2015', 'proposal', 'aims', 'answer', 'fundamental', 'questions', 'deciphering', 'sfhs', 'new', 'population', 'dwarf', 'galaxies', 'bridge', 'starbursting', 'bcds', 'quiescent', 'dirrs', 'blue', 'diffuse', 'dwarf', 'galaxies', 'uncovering', 'new', 'population', 'dwarf', 'galaxies', 'blue', 'diffuse', 'dwarf', 'galaxies', 'based', 'galaxy', 'luminosity', 'function', 'know', 'low', 'mass', 'low', 'metallicity', 'objects', 'abundant', 'locating', 'metal', 'poor', 'galaxies', 'i.e.', 'extremely', 'metal', 'poor', '12+log(o', 'h', '7.65', '‘', 'xmps', '’', 'group', 'difficult', 'far', 'small', 'number', 'detected', 'e.g.', 'izotov', '2012', 'light', 'low', 'yield', 'new', 'methods', 'xmp', 'detection', 'explored', 'e.g.', 'blind', 'hi', 'surveys', 'fact', 'recently', 'leo', 'p', 'metal', 'deficient', 'dwarf', 'galaxies', 'known', 'z', '∼', '1/34', 'z', 'skillman', '2013', 'uncovered', 'using', 'method', 'giovanelli', '2013', 'particular', 'xmp', 'unconventional', 'morphology', 'randomly', 'distributed', 'hii', 'regions', 'embedded', 'low', 'surface', 'brightness', 'emission', 'led', 'speculate', 'common', 'structure', 'xmps', 'uncover', 'xmps', 'turned', 'true', '2014', 'brought', 'light', 'new', 'sample', 'dwarf', '1', 'galaxies', 'using', 'morphological', 'properties', 'leo', 'p', 'basis', 'search', 'conducted', 'sdss', 'imaging', 'data', 'uncovered', '∼150', 'previously', 'unknown', 'low', 'surface', 'brightness', 'starforming', 'galaxies', 'james', '2015', '2016', 'galaxies', 'faint', 'blue', 's', 'isolated', 'hii', 'regions', 'randomly', 'scattered', 'diffuse', 'continuum', 'fig', '1', 'called', '‘', 'blue', 'diffuse', 'dwarf', 'bdd', 'galaxies', '’', 'primary', 'aim', 'search', 'xmps', 'like', 'leo', 'p', 'optical', 'long', 'slit', 'spectroscopy', 'confirms', '∼25', 'sample', 'xmps', 'combined', 'sdss', 'imaging', 'spectra', 'reveal', 'nearby', 'systems', '2–150', 'mpc', 'regions', 'recent', 'ongoing', 'sf', 'i.e.', 'ages', '∼7', 'myr', 'star', 'formation', 'rates', 'log(sf', 'r', 'm', 'yr−1', '∼', '−2', '−0.5', 'randomly', 'distributed', 'diffuse', 'chemically', 'young', 'gas', 'fig', '1', '2', 'bdds', 'properties', 'bridge', 'gap', 'quiescent', 'dirrs', 'starbursting', 'bcds', 'i.e.', 'active', 'star', 'formation', 'structured', 'systems', 'irregular', 'diffuse', 'structure', 'bdds', 'coupled', 'fact', 'isolated', 'actively', 'forming', 'stars', 'non', 'bursting', 'haphazard', 'manner', 'chemically', 'unevolved', 'gas', 'suggests', 'bdds', 'offer', 'missing', 'link', 'starbursting', 'quiescent', 'dwarf', 'galaxies', 'profound', 'implications', 'constraining', 'population', 'synthesis', 'modelling', 'galaxies', 'despite', 'investing', 'large', 'amounts', 'time', 'ground', 'based', 'spectroscopic', 'data', 'imaging', 'closer', 'understanding', 'true', 'mode', 'epoch', 'history', 'sf', 'resolving', 'stellar', 'populations', 'hst', 'properly', 'address', 'important', 'topic', 'determine', 'role', 'dwarf', 'galaxy', 'evolution', 'perfect', 'candidates', 'sample', 'newly', 'discovered', 'xmp', 'galaxies', 'bdds', 'perfectly', 'suited', 'hst', 'investigation', 'resolved', 'stars', 'i.e.', 'd', '20', 'mpc', 'sub', 'sample', 'chosen', 'candidates', 'study', 'jkb', '78', '122', '129', '‘', 'jkb’=‘jameskoposov', 'belokurov', '’', 'targets', 'probe', 'different', 'evolutionary', 'phases', 'fully', 'sample', 'sfhs', 'covering', 'wide', 'range', 'sfrs', 'determined', 'brightness', 'hii', 'regions', 'high', 'jkb', '122', 'moderate', 'jkb', '78', 'detectable', 'bright', 'hii', 'regions', 'jkb', '129', 'table', '1', 'list', 'properties', 'candidate', 'jkb', '129', 'particular', 'prove', 'extremely', 'interesting', 'optical', 'spectrum', 'shows', 'weak', 'emission', 'lines', 'prominent', 'balmer', 'absorption', 'lines', 'suggesting', 'sf', 'recently', 'turned', 'target', 'metal', 'poor', '∼', '0.1', 'z', 'lies', 'distance', '∼6', '–', '8.5', 'mpc', 'low', 'stellar', 'masses', 'log(m', '/m', '∼5–7', 'finally', 'galaxy', 'appears', 'isolated', 'removes', 'environmental', 'effects', 'complicate', 'comparing', 'sfhs', 'sample', 'dwarf', 'galaxies', 'general', 'dwarfs', 'dense', 'regions', 'follow', 'different', 'evolutionary', 'path', 'e.g.', 'peebles', '2001', 'gottl¨ober', '2003', 'hoeft', '2006', 'determining', 'star', 'formation', 'history', 'bdds', 'range', 'sf', 'activity', 'bdds', 'surface', 'brightness', 'profiles', 'compact', 'starbursting', 'environments', 'diffuse', 'quiescent', 'sf', 'fig', '1', '2', 'age', 'ionising', 'stellar', 'populations', 'candidates', '5–7', 'myr', 'old', 'implying', 'like', 'morphological', 'counterpart', 'leo', 'p', 'withstood', 'removal', 'gas', 'content', 'initial', 'sf', 'phase', 'i.e.', '‘', 'quenching', '’', 'despite', 'low', 'masses', 'mcquinn', '2015', 'unlike', 'bcds', 'bdds', 'akin', 'dirrs', 'undergone', 'strong', 'compact', 'burst', 'sf', 'sfhs', 'bcds', 'dirr', 'galaxies', 'qualitative', 'behaviour', '2', 'recent', 'burst', 'imposed', 'moderate', 'continuous', 'sf', 'activity', 'tolstoy', '2009', 'cignoni', 'tosi', '2010', 'fig', '4', 'given', 'physical', 'properties', 'sfhs', 'bdds', 'sfhs', 'lie', 'mid', 'scale', 'bcds', 'dirrs', 'confirming', 'evolutionary', 'link', 'bcds', 'dirrs', 'ii', 'series', 'short', 'moderate', '‘', 'gasps', '’', 'observing', 'different', 'epochs', 'look', 'time', 'recent', 'sf', 'episodes', 'chemically', 'pristine', 'gas', 'qualitatively', 'similar', 'leo', 'p', 'iii', 'recent', 'period', 'sf', 'young', 'systems', 'scenarios', 'significant', 'impact', 'understanding', 'dwarf', 'galaxy', 'evolution', 'propose', 'obtain', 'deep', 'hst', 'imaging', 'previously', 'undetected', 'bdd', 'galaxies', 'resolve', 'stellar', 'populations', 'old', 'rgb', 'infer', 'sfhs', 'using', 'synthetic', 'color', 'magnitude', 'diagrams', 'cmds', 'targets', 'close', 'resolved', 'stars', 'hst', 'given', 'distances', '6–8.5', 'mpc', 'implied', 'systemic', 'velocity', 'v', '400–600', 'km', 's−1', 'metallicities', '∼0.1', 'z', 'intrinsic', 'reddenings', 'e(b', '−v', '0.01', '–', '0.1', 'balmer', 'decrement', 'rgb', 'tips', '24.7–25.5', 'mag', 'bellazzini', '2001', 'respectfully', 'table', '1', 'propose', 'deep', 'exposures', 'bdds', 'sensitive', 'acs', 'broad', 'band', 'filters', 'f606w', 'f814w', 'reach', '1', 'mag', 'level', 'rgb', 'tip', 'trgb', 'photometric', 'uncertainty', '∼', '0.1', 'mag', 'observations', 'probe', 'existence', 'old', '∼', '1', 'gyr', 'stellar', 'population', 'e.g.', 'fig', '3', 'ii', 'allow', 'study', 'sf', '500–700', 'myr', 'good', 'resolution', 'iii', 'study', 'recent', '100', 'myr', 'excellent', 'temporal', 'resolution', '∼10', 'myr', 'contamination', 'nebular', 'emission', 'problem', 'gas', 'rich', 'sf', 'propose', 'image', 'galaxy', 'narrow', 'band', 'filter', 'f658n', 'correct', 'broad', 'f606w', 'filter', 'nebular', 'hα', 'contamination', 'wfc3', 'parallel', 'filters', 'investigate', 'existence', 'properties', 'stars', 'halo', 'example', 'hst', 'parallel', 'field', 'studies', 'dirrs', 'ngc4449', 'ngc1569', 'old', 'stars', 'associated', 'distinct', 'stellar', 'halos', 'ry`s', '2011', 'spatial', 'information', 'gained', 'acs', 'wfc3', 'observations', 'trace', 'local', 'global', 'distribution', 'sf', 'bdds', 'constrain', 'evolutionary', 'history', 'sfh', 'analysis', 'construct', 'synthetic', 'cmds', 'stellar', 'evolutionary', 'tracks', 'using', 'state', 'art', 'stellar', 'population', 'synthesis', 'model', 'parsec', 'bressan', '2012', 'e.g.', 'fig', '3', 'synthetic', 'cmds', 'compared', 'observed', 'cmd', 'using', 'newly', 'developed', 'hybrid', 'genetic', 'algorithm', 'described', 'cignoni', '2015', 'infer', 'best', 'fitting', 'sfh', 'turn', 'sfh', 'constrain', 'chemical', 'physical', 'evolution', 'galaxy', 'continuum', 'dwarf', 'galaxies', 'sfhs', 'bdds', 'broader', 'context', 'dwarf', 'galaxy', 'evolution', 'comparing', 'results', 'numerous', 'sfh', 'studies', 'dirrs', 'bcds', 'published', 'literature', 'summary', 'observations', 'proposed', 'provide', 'unique', 'opportunity', 'stepforward', 'understanding', 'galaxy', 'assembly', 'evolution', 'deciphering', 'sfh', 'dwarf', 'galaxies', 'connect', 'starbursting', 'bcds', 'quiescent', 'dirrs', 'sample', 'consists', 'newly', 'uncovered', 'chemically', 'unevolved', 'galaxies', 'sf', 'occurs', 'uncharacteristically', 'diffuse', 'environments', 'combining', 'targets', 'capabilities', 'hst', 'offer', 'unprecedented', 'insight', 'evolutionary', 'status', 'role', 'dwarf', 'galaxy', 'evolution', '3', '1', 'kpc', 'jkb', '122', 'jkb', '129', '1', 'kpc', '~100', 'arcseconds', 'jkb', '78', '1', 'kpc', 'fig', '1', 'newly', 'uncovered', 'blue', 'diffuse', 'dwarf', 'galaxies', 'images', 'constructed', 'gri', 'band', 'sdss', 'imaging', 'data', '~100', 'arcseconds', 'north', 'east', 'left', 'present', 'sdss', 'images', 'mmt', 'optical', 'spectroscopy', 'exist', 'sample', 'james', '2015', '2017', 'sample', 'covers', 'range', 'sfrs', 'allowing', 'examine', 'different', 'epochs', 'evolution', 'extremely', 'metal', 'poor', 'young', '~6', '7', 'myr', 'ionising', 'stellar', 'population', 'properties', 'make', 'ideally', 'placed', 'adjacent', 'bcd', 'dirr', 'classes', 'selected', 'nearest', 'candidates', 'observe', 'hst', 'resolve', 'stellar', 'populations', 'images', 'essential', 'robustly', 'determining', 'star', 'formation', 'histories', 'way', 'decipher', 'true', 'role', 'dwarf', 'galaxy', 'evolution', 'b', '18', 'µ', 'b', 'mag', 'sq', 'arcsec', '20', '22', '24', '26', 'izotov07', 'izotov12', 'jkb', 'objects', 'morales', '28', '30', '−6', '−8', '−', '10', '−', '12', '−', '14', '−', '16', 'mb', 'mag', '−', '18', '−', '20', '−', '22', 'fig', '2', 'unique', 'sdss', 'imaging', 'search', 'algorithm', 'successful', 'uncovering', 'new', 'population', 'dwarf', 'galaxy', 'bdds', 'jkb', 'objects', 'dark', 'blue', 'rare', 'extremely', 'metal', 'poor', 'objects', 'xmps', 'propose', 'resolve', 'stellar', 'populations', 'closest', 'bdds', 'hst', 'jkb', '78', '122', '129', 'red', 'using', 'broad', 'v', 'band', 'imaging', 'construct', 'cmds', 'determine', 'presence', 'older', 'underlying', 'population', 'rgb', 'stars', 'assess', 'mode', 'sf', 'i.e.', 'bursty', 'prolonged', 'look', 'time', 'relationship', 'b', 'band', 'magnitude', 'star', 'formation', 'rate', 'sfr', 'bdds', 'dark', 'blue', 'dwarf', 'irregulars', 'dirrs', 'green', 'blue', 'compact', 'dwarfs', 'bcds', 'red', 'known', 'extremely', 'metal', 'poor', 'galaxies', 'orange', 'adapted', 'james', '2017', '3', 'targets', 'blue+red', 'outline', 'sample', '2', 'orders', 'magnitude', 'sfr', 'allowing', 'probe', 'different', 'evolutionary', 'epochs', 'b', 'b', 'band', 'magnitude', 'vs.', 'b', 'band', 'surface', 'brightness', 'spectroscopic', 'sample', 'bdds', 'adapted', 'james', '2015', 'properties', 'bdds', 'bridge', 'gap', 'compact', 'starbursting', 'bcds', 'pink', 'green', 'purple', 'quiescent', 'dirrs', 'grey', 'instead', 'actively', 'forming', 'stars', 'hii', 'regions', 'scattered', 'diffuse', 'continuum', 'sfhs', 'offer', 'new', 'hope', 'understanding', 'evolutionary', 'link', 'bcds', 'dirrs', '4', 'fig', '3', 'example', 'hst', 'resolve', 'stellar', 'population', 'low', 'mass', 'metal', 'poor', 'ultra', 'faint', 'dwarf', 'galaxy', 'leo', 't', 'd~0.65', 'mpc', 'clementini', 'cignoni', '2012', 'vs.', 'v', 'cmd', 'clearly', 'reveals', 'rgb', 'stars', 'determined', 'wfpc2', '1200s', 'exposures', 'filter', '6', '8.5', 'mpc', 'away', 'observations', 'typically', 'require', '1', '2', 'orbits', 'filter', 'order', 'reach', 'absolute', 'magnitude', 'comparison', 'hst', 'acs', 'observed', 'stellar', 'evolutionary', 'sequence', 'bcd', 'galaxy', 'sbs1415', '437', '13.6', 'mpc', '8', 'orbits', 'filter', 'aloisi', '2005', 'sfh', 'right', 'panel', 'recovered', 'using', 'state', 'ofthe', 'art', 'stellar', 'population', 'synthesis', 'code', 'parsec', 'showed', 'leo', 't', 'transition', 'object', 'dwarf', 'spheroidal', 'irregular', 'types', 'comparing', 'leo', 't', '’s', 'cmd', 'distribution', 'stars', 'different', 'evolutionary', 'scenarios', 'leo', 't', 'revealed', 'complex', 'sfh', 'dominated', 'enhanced', 'periods', '1.5', '9', 'gyr', 'ago', 'combined', 'modeling', 'expertise', 'observations', 'proposed', 'enable', 'undertake', 'quantitative', 'analysis', 'sfhs', 'bdd', 'galaxies', 'determine', 'evolutionary', 'link', 'bcd', 'dirr', 'galaxies', 'ddo68', 'bcd', 'sacchi', '2016', 'leo', 'p', 'low', 'luminosity', 'dirr', 'xmp', 'mcquinn', '2015', 'ngc', '1569', 'dirr', 'grocholski', '2012', 'fig', '4', 'mixed', 'bag', 'star', 'formation', 'histories', 'sfhs', 'blue', 'compact', 'dwarfs', 'bcds', 'dwarf', 'irregulars', 'dirrs', 'qualitative', 'sfhs', 'recent', 'bursts', 'non', 'zero', '‘', 'gasping', '’', 'star', 'formation', '10', 'gyr', 'order', 'magnitude', 'difference', 'star', 'formation', 'rates', 'nb', 'ddo68', 'sfh', 'shows', 'sfr', 'density', 'hand', 'extremely', 'metal', 'poor', 'xmp', 'low', 'luminosity', 'dirrs', 'like', 'leo', 'p', 'bdd', 'population', 'modelled', 'relatively', 'constant', 'sfh', 'bursts', 'quenching', 'sf', 'surface', 'brightness', 'properties', 'newly', 'uncovered', 'bdd', 'galaxies', 'suggest', 'bridge', 'sfhs', 'bcds', 'dirrs', 'observations', 'sample', 'sfh', '1gyr', 'ago', 'possible', 'scenarios', 'sfhs', 'scale', 'bcds', 'dirrs', 'suggesting', 'bdds', 'evolutionary', 'link', 'populations', 'ii', 'short', 'gasps', 'sf', '1', '2', 'gyr', 'i.e.', 'remaining', 'active', 'chemically', 'unevolved', 'like', 'leo', 'p', 'iii', 'burst', 'sf', 'implying', 'young', 'systems', 'scenarios', 'help', 'understanding', 'dwarf', 'galaxy', 'assembly', 'evolution', '5', 'references', '•', '•', '•', '•', '•', '•', '•', '•', '•', '•', '•', '•', '•', 'aloisi', 'a.', 'tosi', 'm.', 'greggio', 'l.', '1999', 'aj', '118', '302', '•', 'aloisi', 'a.', '2005', 'apj', '631', '45', 'aloisi', 'a.', '2007', 'apj', '667', 'l151', '•', 'annibali', 'f.', '2015', 'aj', '150', '143', 'bellazzini', 'm.', 'ferraro', 'f.', 'r.', 'pancino', 'e.', '2001', 'apj', '556', '635', '•', 'bressan', 'a.', '2012', 'mnras', '427', '127', 'cignoni', 'm.', 'tosi', 'm.', '2010', 'adast', '158568', '•', 'cignoni', 'm.', '2015', 'apj', '811', '76', 'ellis', 'r.', 's.', '2013', 'apj', '763', 'l7', '•', 'gallart', 'c.', '2015', 'apj', '811', '18', 'giovanelli', 'r.', '2013', 'aj', '146', '15', '•', 'gottl¨', 'ober', 's.', 'lokas', 'e.', 'l.', 'klypin', 'a.', 'hoffman', 'y.', '2003', 'mnras', '344', '715', 'grocholski', 'a.', '2012', 'aj', '143', '117', '•', 'haynes', 'm.', 'p.', '2011', 'aj', '142', '170', 'hoeft', 'm.', '2006', 'mnras', '371', '401', '•', 'izotov', 'y.', 'i.', 'thuan', 't.', 'x.', '2002', 'apj', '567', '875', 'izotov', 'y.', 'i.', 'thuan', 't.', 'x.', 'guseva', 'n.', 'g.', '2012', '546', 'a122', '•', 'james', 'b.', 'l.', 'koposov', 's.', '2015', 'mnras', '448', '2687', 'james', 'b.', 'l.', 'koposov', 's.', '2017', 'mnras', '465', '3977', '•', 'mcquinn', 'k.', 'b.', 'w.', 'skillman', 'e.', 'd', '2015', 'apj', '815', '17', 'mcquinn', 'k.', 'b.', 'w.', '2015', 'apj', '812', '15', '•', 'oesch', 'p.', 'a.', '2016', 'apj', '819', '129', 'peebles', 'p.', 'j.', 'e.', '2001', 'apj', '557', '495', '•', 'ry`s', 'a.', '2011', 'a&a', '530', '23', '•', 'skillman', 'e.', 'd.', '2013', 'aj', '146', '3', 'sacchi', 'e.', '2016', 'apj', '830,3', '•tolstoy', 'e.', '2009', 'ara&a', '47', '37', 'table', '1', 'object', 'properties', 'object', 'jkb', '78', 'jkb', '122', 'jkb', '129', 'distance', '/mpc', '7', '6a', '8.5c', 'b', 'z', 'z', '0.09', '0.09', '0.09', 'log(m', 'm', '5.3', '5.4', '7.3', 'f', 'hα', '/×10−15', '7.0', '24.0', '—', 'sfr', '/×10−2', '0.2', '1.0', '0.01', 'e(b', '−', 'v', 'int', '0.01', '0.11', '0.1', 'm', '−', 'm', '0', '29.2', '28.9', '29.6', 'rgb,0', '/mag', '24.9', '24.8', '25.5', 'low', 'systemic', 'velocity', '110', 'km', 's−1', 'object', 'measured', 'optical', 'spectroscopic', 'data', 'instead', 'adopt', 'conservative', 'distance', 'calculated', 'haynes', '2011', 'based', 'local', 'universe', 'peculiar', 'velocity', 'model', 'masters', '2005', 'utilize', 'distance', 'dependent', 'quantities', 'listed', 'b', 'determined', 'direct', 't', 'method', 'exception', 'jkb', '129', 'e', 'mass', 'metallicity', 'used', 'lack', 'oiii', 'emission', 'line', 'detection', 'c', 'calculated', 'using', 'stellar', 'absorption', 'lines', 'z', '0.0019', 'distance', 'derivation', 'method', 'described', 'james', '2017', 'description', 'observations', 'sample', 'selection', 'distances', '6–8.5', 'mpc', 'corresponding', 'distance', 'moduli', 'm', '−', 'm', '0', '28.9', '–', '29.6', 'table', '1', 'determining', 'star', 'formation', 'histories', 'detecting', 'old', '∼', '1', 'gyr', 'resolved', 'stellar', 'population', 'newly', 'discovered', 'blue', 'diffuse', 'dwarfs', 'performed', 'hst', 'target', 'bdds', 'selected', 'basis', 'closest', 'bdds', 'cover', 'orders', 'magnitude', 'star', 'formation', 'rate', 'i.e.', 'sampling', 'different', 'evolutionary', 'epochs', 'population', 'including', 'furthest', 'bdd', 'sample', 'double', 'requested', 'orbit', 'time', 'sampling', 'different', 'sf', 'epoch', 'target', 'sample', 'implies', 'reasonable', 'number', 'orbits', 'acs', 'wfc', 'whilst', 'maximising', 'project', '’s', 'scientific', 'impact', 'target', 'typically', '∼', '50', '”', 'diameter', 'centered', 'wfc', 'detectors', 'resolution', '0.0500', 'pixel', 'square', 'field', 'view', 'fov', '20200', 'request', 'specific', 'orientation', 'angles', 'object', 'ensure', 'targets', 'fall', 'gap', 'wfc', 'detectors', 'filter', 'selection', 'broad', 'band', 'filters', 'f606w', 'broad', 'v', 'f814w', 'broad', 'used', 'construct', 'vs.', 'v', '−i', 'cmd', 'choice', 'filters', 'straightforward', 'given', '6', 'e(b', '−', 'v', 'gal', '0.01', '0.02', '0.19', 'table', '2', 'exposure', 'times', 'object', 'jkb', '78', 'jkb', '122', 'jkb', '129', 'f606w', '/s', '2500', '2200', '5200', 'f814w', '/s', '2300', '2100', '3800', 'f658n', '/s', '1500', '1500', '–', 'total', 'overheads', '/orbits', '3', '3', '4', 'f606w', 'f814w', 'used', 'stellar', 'population', 'studies', 'including', 'shown', 'fig', '3', 'previous', 'data', 'ngc', '1705', 'tosi', '2001', 'demonstrated', 'hst', 'optical', 'v', 'filters', 'efficient', 'detecting', 'rgb', 'stars', 'near', 'infrared', 'j', 'h', 'filters', 'band', 'advantage', 'rgb', 'properties', 'tip', 'particularly', 'calibrated', 'understood', 'band', 'f606w', 'filter', 'acs', 'preferred', 'f555w', 'filter', 'higher', 'sensitivity', 'times', 'longer', 'integrations', 'required', 'f555w', 'reach', 's', 'n.', 'camera', 'selection', 'wfc3', 'uvis', 'higher', 'resolution', '0.0400', 'pixel', 'comparable', 'square', 'fov', '16000', 'preferred', 'acs', 'wfc', 'slightly', 'lower', 'sensitivity', 'f606w', 'f814w.', 'previous', 'studies', 'distant', 'systems', 'e.g.', 'sbs', '1415', '437', 'aloisi', '2005', 'fig', '3', 'demonstrate', 'lower', 'resolution', 'acs', 'wfc', 'suited', 'type', 'study', 'enables', 'deeper', 'observations', 'etcs', 'table', '1', 'list', 'magnitude', 'rgb', 'tip', 'metallicity', 'distance', 'object', 'estimated', 'using', 'bellazzini', '2001', 'johnson', 'cousins', 'photometric', 'rgb,0', 'corrected', 'intrinsic', 'extinction', 'object', 'determine', 'balmer', 'decrement', 'measured', 'ground', 'based', 'mmt', 'optical', 'spectra', 'james', '2015', '2017', 'want', 'detect', 'stars', 'magnitude', 'fainter', 'rgb', 'tip', 'photometric', 'error', 'σ', '∼', '0.1', 'mag', 's', 'n', '∼', '10', 'f606w', 'f814w.', 'conservative', 'request', 'order', 'clearly', 'detect', 'rule', 'presence', 'rgb', 'stars', 'rgb', 'tip', 'detected', 'gives', 'estimate', 'distance', 'modulus', 'uncertain', '∼', '0.05', 'mag', 'additionally', 'list', 'galactic', 'extinction', 'object', 'e(b−v', 'ned', 'used', 'calculations', 'table', '2', 'list', 'acs', 'version', '25.1', 'exposure', 'times', 'required', 'detect', 'red', 'giant', 'star', 'listed', 'band', 'limits', 's', 'n', '∼', '10', 'aperture', '0.200', '4', 'pixels', 'diameter', 'requirement', 'reliable', 'robust', 'detection', 'stars', '1', 'mag', 'rgb', 'measurement', 'stellar', 'magnitude', 'crowded', 'field', 'uncertainty', 'σ', '∼', '0.1', 'mag', 'psf', 'fitting', 'photometry', 'assume', 'conservatively', '40', 'minutes', 'target', 'exposure', 'time', 'orbit', 'i.e.', 'total', 'visibility', 'time', 'minus', 'guide', 'star', 'acquisition', 'time', 'minus', 'acs', 'overheads', 'overhead', 'calculations', 'cover', '4', 'exposures', 'filter', 'acquisitions', 'orbit', 'readout', 'times', 'filter', 'changes', 'broad', 'band', 'filters', 'request', '3', '3', '4', 'orbits', 'jkb', '78,122', '129', 'respectively', 'including', 'overheads', 'accounting', 'orbital', 'visibility', 'target', 'table', '2', 'multiple', 'exposures', 'filter', 'executed', 'dithering', 'pattern', 'integer', 'fractional', 'pixel', 'shifts', 'order', 'rid', 'cosmic', 'rays', 'remove', 'hot', 'bad', 'pixels', 'improve', 'psf', 'sampling', 'know', 'previous', 'hst', 'studies', 'resolved', 'stellar', 'populations', 'stellar', 'crowding', 'affect', 'data', 'level', 'close', 'proximity', 'target', 'makes', '7', 'far', 'manageable', 'example', 'acs', 'wfc', 'study', 'sbs', '1415', '437', 'aloisi', '2005', '20,000', 'stars', 'detected', 'despite', 'lying', '13.6', 'mpc', 'comparison', 'targets', '6–8.5', 'mpc', 'away', 'intend', 'characterise', 'influence', 'stellar', 'crowding', 'include', 'sfh', 'analysis', 'using', 'artificial', 'star', 'tests', 'hα', 'imaging', 'expect', 'gas', 'contamination', 'major', 'problem', 'detection', 'stars', 'rgb', 'tip', 'gas', 'contamination', 'detection', 'correct', 'photometry', 'younger', 'stellar', 'populations', 'located', 'closer', 'inside', 'star', 'forming', 'regions', 'require', 'narrow', 'band', 'imaging', 'f658n', 'correct', 'wide', 'f606w', 'filter', 'nebular', 'hα', 'contamination', 'correction', 'achieved', 'recursively', 'scaling', 'subtracting', 'narrow', 'band', 'image', 'v', 'image', 'residual', 'nebular', 'contamination', 'remains', 'e.g.', 'cannon', '2003', 'small', 'systemic', 'velocity', 'object', '400–600', 'km', 's−1', 'places', 'hα', 'emission', 'line', 'inside', 'highest', 'sensitivity', 'region', 'response', 'curve', '∼10', '˚', 'vs.', 'width', '∼100', '˚', 'filter', 'nii', 'λ6584', 'emission', 'line', 'inside', 'f658n', 'band', 'flux', 'practically', 'negligible', 'compared', 'hα', 'metal', 'poor', 'dwarf', 'galaxies', 'table', '1', 'list', 'hα', 'flux', 'measured', 'mmt', 'long', 'slit', 'optical', 'spectroscopic', 'observations', 'james', '2015', '2017', 'flux', 'measurements', 'brightest', 'hii', 'regions', 'galaxy', 'base', 'acs', 'etcs', 'hα', 'fluxes', '50', 'times', 'fainter', 'shown', 'require', 'f658n', 'imaging', 'jkb', '129', 'hα', 'flux', 'negligible', 'galaxy', 'table', '2', 'lists', 'exposure', 'times', 'required', 'f658n', 'yield', 's', 'n', 'values', '10', '∼', 'object', 'square', 'aperture', '2', '×', '2', 'pixels', 'case', 'exposure', 'f658n', 'short', 'included', 'orbit', 'allocation', 'broad', 'band', 'filters', 'parallel', 'imaging', 'finally', 'coordinated', 'parallel', 'wfc3', 'uvis', 'observations', 'taken', 'f606w', 'f814w', 'f658n', 'filters', 'number', 'orbits', 'broadband', 'filter', 'object', 'correspond', 's', 'n∼9', '6', 'f606w', 'f814w', 'respectively', 'magnitude', 'rgbt', 'galaxy', 'summary', 'require', 'total', '3', '3', '4', 'orbits', 'study', 'resolved', 'stellar', 'populations', 'newly', 'discovered', 'blue', 'diffuse', 'dwarf', 'galaxies', 'amounts', 'total', '10', 'hst', 'orbits', 'wfc3', 'uvis', 'coordinated', 'parallel', 'mode', 'total', '10', 'hst', 'parallel', 'orbits', 'special', 'requirements', 'coordinated', 'observations', 'coordinated', 'observations', 'facilities', 'planned', 'request', 'coordinated', 'parallel', 'wfc3', 'uvis', 'observations', 'discussed', 'justify', 'duplications', 'observations', 'duplicate', 'existing', 'hst', 'archive', '8']\n"
     ]
    }
   ],
   "source": [
    "# Print list of tokens\n",
    "print(tokens)"
   ]
  },
  {
   "cell_type": "code",
   "execution_count": null,
   "metadata": {},
   "outputs": [],
   "source": []
  }
 ],
 "metadata": {
  "kernelspec": {
   "display_name": "Python 3",
   "language": "python",
   "name": "python3"
  },
  "language_info": {
   "codemirror_mode": {
    "name": "ipython",
    "version": 3
   },
   "file_extension": ".py",
   "mimetype": "text/x-python",
   "name": "python",
   "nbconvert_exporter": "python",
   "pygments_lexer": "ipython3",
   "version": "3.8.10"
  }
 },
 "nbformat": 4,
 "nbformat_minor": 4
}
