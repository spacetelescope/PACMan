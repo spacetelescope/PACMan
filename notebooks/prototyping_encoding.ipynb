{
 "cells": [
  {
   "cell_type": "markdown",
   "metadata": {},
   "source": [
    "### Text Classification\n",
    "\n",
    "The goal of this notebook is to walk through the machine learning step of the text classification process.\n",
    "\n",
    "1) Encoding\n",
    "\n",
    "2) Partitioning the dataset into distinct subgroups\n",
    "\n",
    "3) Vectorization (Term Frequency Inverse Document Frequency (TF-IDF))\n"
   ]
  },
  {
   "cell_type": "code",
   "execution_count": 1,
   "metadata": {},
   "outputs": [],
   "source": [
    "%matplotlib widget\n",
    "import glob\n",
    "import sys\n",
    "sys.path.append('../')\n",
    "\n",
    "from astropy.visualization import ImageNormalize, LinearStretch, ZScaleInterval\n",
    "import matplotlib.pyplot as plt\n",
    "plt.style.use('ggplot')\n",
    "import numpy as np\n",
    "import pandas as pd\n",
    "from utils.tokenizer import PACManTokenizer\n",
    "import pacman_classes\n",
    "from pacman_classes import PACManPipeline\n",
    "\n",
    "from sklearn.feature_selection import chi2\n",
    "from sklearn.feature_extraction.text import TfidfVectorizer, TfidfTransformer, CountVectorizer\n",
    "from sklearn.metrics import classification_report\n",
    "from sklearn.naive_bayes import MultinomialNB\n",
    "from sklearn.preprocessing import LabelEncoder\n",
    "from sklearn.pipeline import Pipeline\n",
    "from sklearn.pipeline import Pipeline\n",
    "from sklearn import model_selection, naive_bayes, svm\n",
    "from sklearn.metrics import accuracy_score\n",
    "from sklearn.metrics import confusion_matrix\n",
    "\n",
    "import os\n",
    "from os import path"
   ]
  },
  {
   "cell_type": "code",
   "execution_count": 2,
   "metadata": {},
   "outputs": [],
   "source": [
    "def read_category_label(fname):\n",
    "    flabel = fname.replace(fname.split('/')[-1],'Cycle25_hand_classifications.txt')\n",
    "    with open(flabel, 'r') as fobj:\n",
    "        lines = fobj.readlines()\n",
    "    print(lines)"
   ]
  },
  {
   "cell_type": "code",
   "execution_count": 3,
   "metadata": {},
   "outputs": [],
   "source": [
    "cy24 = '../training_data/Cycle24/'\n",
    "cy25 = '../training_data/Cycle25/'"
   ]
  },
  {
   "cell_type": "code",
   "execution_count": 4,
   "metadata": {},
   "outputs": [
    {
     "name": "stdout",
     "output_type": "stream",
     "text": [
      "/Users/tking/Documents/PACMan_private\n"
     ]
    }
   ],
   "source": [
    "os.chdir(path.abspath(path.join(os.getcwd(),\"..\")))\n",
    "print(os.getcwd())\n",
    "\n",
    "fname = os.getcwd()+'/training_data/Cycle25/0001_training.txt'"
   ]
  },
  {
   "cell_type": "code",
   "execution_count": 5,
   "metadata": {},
   "outputs": [
    {
     "name": "stdout",
     "output_type": "stream",
     "text": [
      "['proposal_num,hand_classification\\n', '0001,stellar physics and stellar types\\n', '0002,galaxies\\n', '0003,stellar physics and stellar types\\n', '0004,stellar physics and stellar types\\n', '0005,stellar populations and the interstellar medium\\n', '0006,stellar populations and the interstellar medium\\n', '0007,galaxies\\n', '0008,stellar physics and stellar types\\n', '0009,intergalactic medium and the circumgalactic medium\\n', '0010,large scale structure of the universe\\n', '0011,stellar physics and stellar types\\n', '0012,galaxies\\n', '0013,stellar populations and the interstellar medium\\n', '0014,stellar populations and the interstellar medium\\n', '0015,large scale structure of the universe\\n', '0016,intergalactic medium and the circumgalactic medium\\n', '0017,supermassive black holes and active galaxies\\n', '0018,null\\n', '0019,galaxies\\n', '0020,galaxies\\n', '0021,stellar physics and stellar types\\n', '0022,stellar physics and stellar types\\n', '0023,galaxies\\n', '0024,null\\n', '0025,galaxies\\n', '0026,galaxies\\n', '0027,galaxies\\n', '0028,null\\n', '0029,stellar populations and the interstellar medium\\n', '0030,supermassive black holes and active galaxies\\n', '0031,stellar physics and stellar types\\n', '0032,stellar physics and stellar types\\n', '0033,stellar populations and the interstellar medium\\n', '0034,supermassive black holes and active galaxies\\n', '0035,stellar populations and the interstellar medium\\n', '0036,stellar physics and stellar types\\n', '0037,stellar populations and the interstellar medium\\n', '0038,exoplanets and exoplanet formation\\n', '0039,galaxies\\n', '0040,galaxies\\n', '0041,intergalactic medium and the circumgalactic medium\\n', '0042,galaxies\\n', '0043,stellar populations and the interstellar medium\\n', '0044,exoplanets and exoplanet formation\\n', '0045,large scale structure of the universe\\n', '0046,galaxies\\n', '0047,galaxies\\n', '0048,supermassive black holes and active galaxies\\n', '0049,intergalactic medium and the circumgalactic medium\\n', '0050,stellar physics and stellar types\\n', '0051,galaxies\\n', '0052,supermassive black holes and active galaxies\\n', '0053,supermassive black holes and active galaxies\\n', '0054,galaxies\\n', '0055,stellar populations and the interstellar medium\\n', '0056,large scale structure of the universe\\n', '0057,exoplanets and exoplanet formation\\n', '0058,stellar physics and stellar types\\n', '0059,galaxies\\n', '0060,galaxies\\n', '0061,null\\n', '0062,stellar physics and stellar types\\n', '0063,stellar physics and stellar types\\n', '0064,galaxies\\n', '0065,stellar physics and stellar types\\n', '0066,supermassive black holes and active galaxies\\n', '0067,galaxies\\n', '0068,stellar populations and the interstellar medium\\n', '0069,exoplanets and exoplanet formation\\n', '0070,stellar populations and the interstellar medium\\n', '0071,exoplanets and exoplanet formation\\n', '0072,large scale structure of the universe\\n', '0073,supermassive black holes and active galaxies\\n', '0074,stellar physics and stellar types\\n', '0075,stellar physics and stellar types\\n', '0076,supermassive black holes and active galaxies\\n', '0077,intergalactic medium and the circumgalactic medium\\n', '0078,stellar physics and stellar types\\n', '0079,stellar populations and the interstellar medium\\n', '0080,galaxies\\n', '0081,stellar physics and stellar types\\n', '0082,exoplanets and exoplanet formation\\n', '0083,galaxies\\n', '0084,stellar physics and stellar types\\n', '0085,galaxies\\n', '0086,null\\n', '0087,galaxies\\n', '0088,null\\n', '0089,stellar populations and the interstellar medium\\n', '0090,galaxies\\n', '0091,exoplanets and exoplanet formation\\n', '0092,galaxies\\n', '0093,supermassive black holes and active galaxies\\n', '0094,large scale structure of the universe\\n', '0095,stellar populations and the interstellar medium\\n', '0096,stellar populations and the interstellar medium\\n', '0097,stellar populations and the interstellar medium\\n', '0098,exoplanets and exoplanet formation\\n', '0099,supermassive black holes and active galaxies\\n', '0100,stellar physics and stellar types\\n', '0101,exoplanets and exoplanet formation\\n', '0102,galaxies\\n', '0103,solar system astronomy\\n', '0104,supermassive black holes and active galaxies\\n', '0105,supermassive black holes and active galaxies\\n', '0106,stellar physics and stellar types\\n', '0107,galaxies\\n', '0108,exoplanets and exoplanet formation\\n', '0109,exoplanets and exoplanet formation\\n', '0110,galaxies\\n', '0111,exoplanets and exoplanet formation\\n', '0112,exoplanets and exoplanet formation\\n', '0113,stellar populations and the interstellar medium\\n', '0114,exoplanets and exoplanet formation\\n', '0115,exoplanets and exoplanet formation\\n', '0116,supermassive black holes and active galaxies\\n', '0117,exoplanets and exoplanet formation\\n', '0118,galaxies\\n', '0119,stellar physics and stellar types\\n', '0120,stellar physics and stellar types\\n', '0121,stellar physics and stellar types\\n', '0122,stellar populations and the interstellar medium\\n', '0123,exoplanets and exoplanet formation\\n', '0124,galaxies\\n', '0125,stellar physics and stellar types\\n', '0126,large scale structure of the universe\\n', '0127,galaxies\\n', '0128,stellar physics and stellar types\\n', '0129,large scale structure of the universe\\n', '0130,exoplanets and exoplanet formation\\n', '0131,null\\n', '0132,stellar physics and stellar types\\n', '0133,supermassive black holes and active galaxies\\n', '0134,galaxies\\n', '0135,stellar populations and the interstellar medium\\n', '0136,galaxies\\n', '0137,exoplanets and exoplanet formation\\n', '0138,supermassive black holes and active galaxies\\n', '0139,exoplanets and exoplanet formation\\n', '0140,stellar populations and the interstellar medium\\n', '0141,stellar physics and stellar types\\n', '0142,stellar physics and stellar types\\n', '0143,stellar physics and stellar types\\n', '0144,stellar populations and the interstellar medium\\n', '0145,supermassive black holes and active galaxies\\n', '0146,stellar physics and stellar types\\n', '0147,stellar populations and the interstellar medium\\n', '0148,galaxies\\n', '0149,galaxies\\n', '0150,galaxies\\n', '0151,supermassive black holes and active galaxies\\n', '0152,stellar physics and stellar types\\n', '0153,galaxies\\n', '0154,supermassive black holes and active galaxies\\n', '0155,supermassive black holes and active galaxies\\n', '0156,intergalactic medium and the circumgalactic medium\\n', '0157,large scale structure of the universe\\n', '0158,stellar populations and the interstellar medium\\n', '0159,solar system astronomy\\n', '0160,supermassive black holes and active galaxies\\n', '0161,stellar physics and stellar types\\n', '0162,supermassive black holes and active galaxies\\n', '0163,supermassive black holes and active galaxies\\n', '0164,supermassive black holes and active galaxies\\n', '0165,stellar physics and stellar types\\n', '0166,supermassive black holes and active galaxies\\n', '0167,solar system astronomy\\n', '0168,galaxies\\n', '0169,intergalactic medium and the circumgalactic medium\\n', '0170,exoplanets and exoplanet formation\\n', '0171,supermassive black holes and active galaxies\\n', '0172,exoplanets and exoplanet formation\\n', '0173,intergalactic medium and the circumgalactic medium\\n', '0174,stellar physics and stellar types\\n', '0175,stellar populations and the interstellar medium\\n', '0176,stellar physics and stellar types\\n', '0177,stellar physics and stellar types\\n', '0178,solar system astronomy\\n', '0179,galaxies\\n', '0180,galaxies\\n', '0181,intergalactic medium and the circumgalactic medium\\n', '0182,galaxies\\n', '0183,galaxies\\n', '0184,large scale structure of the universe\\n', '0185,large scale structure of the universe\\n', '0186,stellar physics and stellar types\\n', '0187,stellar physics and stellar types\\n', '0188,galaxies\\n', '0189,stellar physics and stellar types\\n', '0190,intergalactic medium and the circumgalactic medium\\n', '0191,exoplanets and exoplanet formation\\n', '0192,galaxies\\n', '0193,supermassive black holes and active galaxies\\n', '0194,supermassive black holes and active galaxies\\n', '0195,stellar populations and the interstellar medium\\n', '0196,galaxies\\n', '0197,galaxies\\n', '0198,large scale structure of the universe\\n', '0199,supermassive black holes and active galaxies\\n', '0200,stellar physics and stellar types\\n', '0201,large scale structure of the universe\\n', '0202,galaxies\\n', '0203,supermassive black holes and active galaxies\\n', '0204,galaxies\\n', '0205,galaxies\\n', '0206,supermassive black holes and active galaxies\\n', '0207,large scale structure of the universe\\n', '0208,exoplanets and exoplanet formation\\n', '0209,intergalactic medium and the circumgalactic medium\\n', '0210,galaxies\\n', '0211,solar system astronomy\\n', '0212,large scale structure of the universe\\n', '0213,galaxies\\n', '0214,galaxies\\n', '0215,stellar populations and the interstellar medium\\n', '0216,supermassive black holes and active galaxies\\n', '0217,stellar populations and the interstellar medium\\n', '0218,large scale structure of the universe\\n', '0219,intergalactic medium and the circumgalactic medium\\n', '0220,null\\n', '0221,intergalactic medium and the circumgalactic medium\\n', '0222,stellar physics and stellar types\\n', '0223,galaxies\\n', '0224,galaxies\\n', '0225,stellar physics and stellar types\\n', '0226,stellar physics and stellar types\\n', '0227,stellar physics and stellar types\\n', '0228,stellar physics and stellar types\\n', '0229,stellar populations and the interstellar medium\\n', '0230,galaxies\\n', '0231,galaxies\\n', '0232,intergalactic medium and the circumgalactic medium\\n', '0233,galaxies\\n', '0234,exoplanets and exoplanet formation\\n', '0235,stellar populations and the interstellar medium\\n', '0236,stellar physics and stellar types\\n', '0237,galaxies\\n', '0238,stellar physics and stellar types\\n', '0239,supermassive black holes and active galaxies\\n', '0240,intergalactic medium and the circumgalactic medium\\n', '0241,stellar physics and stellar types\\n', '0242,galaxies\\n', '0243,intergalactic medium and the circumgalactic medium\\n', '0244,intergalactic medium and the circumgalactic medium\\n', '0245,galaxies\\n', '0246,intergalactic medium and the circumgalactic medium\\n', '0247,large scale structure of the universe\\n', '0248,stellar physics and stellar types\\n', '0249,stellar physics and stellar types\\n', '0250,galaxies\\n', '0251,solar system astronomy\\n', '0252,supermassive black holes and active galaxies\\n', '0253,stellar physics and stellar types\\n', '0254,stellar populations and the interstellar medium\\n', '0255,exoplanets and exoplanet formation\\n', '0256,stellar populations and the interstellar medium\\n', '0257,stellar populations and the interstellar medium\\n', '0258,stellar populations and the interstellar medium\\n', '0259,exoplanets and exoplanet formation\\n', '0260,stellar populations and the interstellar medium\\n', '0261,exoplanets and exoplanet formation\\n', '0262,large scale structure of the universe\\n', '0263,stellar physics and stellar types\\n', '0264,galaxies\\n', '0265,supermassive black holes and active galaxies\\n', '0266,supermassive black holes and active galaxies\\n', '0267,exoplanets and exoplanet formation\\n', '0268,stellar physics and stellar types\\n', '0269,galaxies\\n', '0270,stellar physics and stellar types\\n', '0271,stellar physics and stellar types\\n', '0272,intergalactic medium and the circumgalactic medium\\n', '0273,galaxies\\n', '0274,galaxies\\n', '0275,stellar physics and stellar types\\n', '0276,supermassive black holes and active galaxies\\n', '0277,large scale structure of the universe\\n', '0278,stellar populations and the interstellar medium\\n', '0279,large scale structure of the universe\\n', '0280,galaxies\\n', '0281,exoplanets and exoplanet formation\\n', '0282,stellar populations and the interstellar medium\\n', '0283,supermassive black holes and active galaxies\\n', '0284,stellar physics and stellar types\\n', '0285,supermassive black holes and active galaxies\\n', '0286,supermassive black holes and active galaxies\\n', '0287,stellar physics and stellar types\\n', '0288,stellar physics and stellar types\\n', '0289,stellar populations and the interstellar medium\\n', '0290,exoplanets and exoplanet formation\\n', '0291,intergalactic medium and the circumgalactic medium\\n', '0292,exoplanets and exoplanet formation\\n', '0293,supermassive black holes and active galaxies\\n', '0294,solar system astronomy\\n', '0295,intergalactic medium and the circumgalactic medium\\n', '0296,solar system astronomy\\n', '0297,supermassive black holes and active galaxies\\n', '0298,intergalactic medium and the circumgalactic medium\\n', '0299,exoplanets and exoplanet formation\\n', '0300,stellar physics and stellar types\\n', '0301,large scale structure of the universe\\n', '0302,galaxies\\n', '0303,galaxies\\n', '0304,large scale structure of the universe\\n', '0305,stellar physics and stellar types\\n', '0306,supermassive black holes and active galaxies\\n', '0307,solar system astronomy\\n', '0308,galaxies\\n', '0309,galaxies\\n', '0310,galaxies\\n', '0311,galaxies\\n', '0312,stellar physics and stellar types\\n', '0313,stellar physics and stellar types\\n', '0314,large scale structure of the universe\\n', '0315,galaxies\\n', '0316,intergalactic medium and the circumgalactic medium\\n', '0317,exoplanets and exoplanet formation\\n', '0318,solar system astronomy\\n', '0319,intergalactic medium and the circumgalactic medium\\n', '0320,intergalactic medium and the circumgalactic medium\\n', '0321,stellar physics and stellar types\\n', '0322,stellar physics and stellar types\\n', '0323,galaxies\\n', '0324,solar system astronomy\\n', '0325,supermassive black holes and active galaxies\\n', '0326,stellar physics and stellar types\\n', '0327,stellar populations and the interstellar medium\\n', '0328,solar system astronomy\\n', '0329,intergalactic medium and the circumgalactic medium\\n', '0330,intergalactic medium and the circumgalactic medium\\n', '0331,stellar populations and the interstellar medium\\n', '0332,stellar physics and stellar types\\n', '0333,stellar physics and stellar types\\n', '0334,large scale structure of the universe\\n', '0335,supermassive black holes and active galaxies\\n', '0336,stellar physics and stellar types\\n', '0337,stellar physics and stellar types\\n', '0338,supermassive black holes and active galaxies\\n', '0339,supermassive black holes and active galaxies\\n', '0340,exoplanets and exoplanet formation\\n', '0341,supermassive black holes and active galaxies\\n', '0342,intergalactic medium and the circumgalactic medium\\n', '0343,stellar populations and the interstellar medium\\n', '0344,large scale structure of the universe\\n', '0345,galaxies\\n', '0346,stellar populations and the interstellar medium\\n', '0347,solar system astronomy\\n', '0348,large scale structure of the universe\\n', '0349,exoplanets and exoplanet formation\\n', '0350,galaxies\\n', '0351,stellar populations and the interstellar medium\\n', '0352,stellar physics and stellar types\\n', '0353,supermassive black holes and active galaxies\\n', '0354,galaxies\\n', '0355,stellar physics and stellar types\\n', '0356,intergalactic medium and the circumgalactic medium\\n', '0357,solar system astronomy\\n', '0358,intergalactic medium and the circumgalactic medium\\n', '0359,galaxies\\n', '0360,large scale structure of the universe\\n', '0361,galaxies\\n', '0362,stellar physics and stellar types\\n', '0363,galaxies\\n', '0364,galaxies\\n', '0365,galaxies\\n', '0366,galaxies\\n', '0367,galaxies\\n', '0368,stellar physics and stellar types\\n', '0369,galaxies\\n', '0370,stellar physics and stellar types\\n', '0371,solar system astronomy\\n', '0372,galaxies\\n', '0373,large scale structure of the universe\\n', '0374,galaxies\\n', '0375,intergalactic medium and the circumgalactic medium\\n', '0376,stellar populations and the interstellar medium\\n', '0377,supermassive black holes and active galaxies\\n', '0378,exoplanets and exoplanet formation\\n', '0379,stellar populations and the interstellar medium\\n', '0380,supermassive black holes and active galaxies\\n', '0381,supermassive black holes and active galaxies\\n', '0382,stellar populations and the interstellar medium\\n', '0383,galaxies\\n', '0384,supermassive black holes and active galaxies\\n', '0385,supermassive black holes and active galaxies\\n', '0386,exoplanets and exoplanet formation\\n', '0387,exoplanets and exoplanet formation\\n', '0388,stellar physics and stellar types\\n', '0389,large scale structure of the universe\\n', '0390,solar system astronomy\\n', '0391,stellar physics and stellar types\\n', '0392,exoplanets and exoplanet formation\\n', '0393,stellar physics and stellar types\\n', '0394,exoplanets and exoplanet formation\\n', '0395,galaxies\\n', '0396,large scale structure of the universe\\n', '0397,galaxies\\n', '0398,stellar physics and stellar types\\n', '0399,stellar physics and stellar types\\n', '0400,exoplanets and exoplanet formation\\n', '0401,galaxies\\n', '0402,exoplanets and exoplanet formation\\n', '0403,galaxies\\n', '0404,intergalactic medium and the circumgalactic medium\\n', '0405,galaxies\\n', '0406,galaxies\\n', '0407,stellar physics and stellar types\\n', '0408,large scale structure of the universe\\n', '0409,stellar physics and stellar types\\n', '0410,stellar populations and the interstellar medium\\n', '0411,supermassive black holes and active galaxies\\n', '0412,galaxies\\n', '0413,galaxies\\n', '0414,galaxies\\n', '0415,galaxies\\n', '0416,intergalactic medium and the circumgalactic medium\\n', '0417,large scale structure of the universe\\n', '0418,stellar populations and the interstellar medium\\n', '0419,stellar populations and the interstellar medium\\n', '0420,exoplanets and exoplanet formation\\n', '0421,galaxies\\n', '0422,large scale structure of the universe\\n', '0423,stellar physics and stellar types\\n', '0424,galaxies\\n', '0425,stellar physics and stellar types\\n', '0426,galaxies\\n', '0427,large scale structure of the universe\\n', '0428,galaxies\\n', '0429,exoplanets and exoplanet formation\\n', '0430,null\\n', '0431,stellar physics and stellar types\\n', '0432,stellar physics and stellar types\\n', '0433,galaxies\\n', '0434,stellar physics and stellar types\\n', '0435,stellar physics and stellar types\\n', '0436,exoplanets and exoplanet formation\\n', '0437,stellar physics and stellar types\\n', '0438,stellar populations and the interstellar medium\\n', '0439,stellar physics and stellar types\\n', '0440,galaxies\\n', '0441,large scale structure of the universe\\n', '0442,stellar physics and stellar types\\n', '0443,exoplanets and exoplanet formation\\n', '0444,supermassive black holes and active galaxies\\n', '0445,intergalactic medium and the circumgalactic medium\\n', '0446,supermassive black holes and active galaxies\\n', '0447,supermassive black holes and active galaxies\\n', '0448,galaxies\\n', '0449,stellar populations and the interstellar medium\\n', '0450,supermassive black holes and active galaxies\\n', '0451,supermassive black holes and active galaxies\\n', '0452,galaxies\\n', '0453,galaxies\\n', '0454,exoplanets and exoplanet formation\\n', '0455,exoplanets and exoplanet formation\\n', '0456,galaxies\\n', '0457,galaxies\\n', '0458,stellar physics and stellar types\\n', '0459,exoplanets and exoplanet formation\\n', '0460,galaxies\\n', '0461,exoplanets and exoplanet formation\\n', '0462,galaxies\\n', '0463,intergalactic medium and the circumgalactic medium\\n', '0464,stellar physics and stellar types\\n', '0465,exoplanets and exoplanet formation\\n', '0466,solar system astronomy\\n', '0467,exoplanets and exoplanet formation\\n', '0468,galaxies\\n', '0469,exoplanets and exoplanet formation\\n', '0470,large scale structure of the universe\\n', '0471,exoplanets and exoplanet formation\\n', '0472,stellar physics and stellar types\\n', '0473,large scale structure of the universe\\n', '0474,galaxies\\n', '0475,stellar physics and stellar types\\n', '0476,exoplanets and exoplanet formation\\n', '0477,galaxies\\n', '0478,stellar physics and stellar types\\n', '0479,galaxies\\n', '0480,stellar physics and stellar types\\n', '0481,stellar physics and stellar types\\n', '0482,stellar physics and stellar types\\n', '0483,large scale structure of the universe\\n', '0484,exoplanets and exoplanet formation\\n', '0485,large scale structure of the universe\\n', '0486,exoplanets and exoplanet formation\\n', '0487,intergalactic medium and the circumgalactic medium\\n', '0488,galaxies\\n', '0489,large scale structure of the universe\\n', '0490,exoplanets and exoplanet formation\\n', '0491,exoplanets and exoplanet formation\\n', '0492,galaxies\\n', '0493,supermassive black holes and active galaxies\\n', '0494,stellar populations and the interstellar medium\\n', '0495,large scale structure of the universe\\n', '0496,exoplanets and exoplanet formation\\n', '0497,supermassive black holes and active galaxies\\n', '0498,galaxies\\n', '0499,galaxies\\n', '0500,stellar physics and stellar types\\n', '0501,stellar populations and the interstellar medium\\n', '0502,stellar populations and the interstellar medium\\n', '0503,galaxies\\n', '0504,stellar populations and the interstellar medium\\n', '0505,solar system astronomy\\n', '0506,stellar populations and the interstellar medium\\n', '0507,stellar populations and the interstellar medium\\n', '0508,stellar populations and the interstellar medium\\n', '0509,galaxies\\n', '0510,exoplanets and exoplanet formation\\n', '0511,stellar physics and stellar types\\n', '0512,supermassive black holes and active galaxies\\n', '0513,supermassive black holes and active galaxies\\n', '0514,stellar physics and stellar types\\n', '0515,supermassive black holes and active galaxies\\n', '0516,stellar physics and stellar types\\n', '0517,supermassive black holes and active galaxies\\n', '0518,supermassive black holes and active galaxies\\n', '0519,supermassive black holes and active galaxies\\n', '0520,supermassive black holes and active galaxies\\n', '0521,supermassive black holes and active galaxies\\n', '0522,stellar physics and stellar types\\n', '0523,solar system astronomy\\n', '0524,stellar physics and stellar types\\n', '0525,large scale structure of the universe\\n', '0526,supermassive black holes and active galaxies\\n', '0527,galaxies\\n', '0528,galaxies\\n', '0529,exoplanets and exoplanet formation\\n', '0530,galaxies\\n', '0531,stellar populations and the interstellar medium\\n', '0532,galaxies\\n', '0533,supermassive black holes and active galaxies\\n', '0534,stellar populations and the interstellar medium\\n', '0535,stellar physics and stellar types\\n', '0536,stellar physics and stellar types\\n', '0537,stellar physics and stellar types\\n', '0538,stellar physics and stellar types\\n', '0539,galaxies\\n', '0540,galaxies\\n', '0541,supermassive black holes and active galaxies\\n', '0542,stellar populations and the interstellar medium\\n', '0543,large scale structure of the universe\\n', '0544,exoplanets and exoplanet formation\\n', '0545,large scale structure of the universe\\n', '0546,supermassive black holes and active galaxies\\n', '0547,galaxies\\n', '0548,stellar populations and the interstellar medium\\n', '0549,stellar physics and stellar types\\n', '0550,galaxies\\n', '0551,exoplanets and exoplanet formation\\n', '0552,stellar populations and the interstellar medium\\n', '0553,exoplanets and exoplanet formation\\n', '0554,exoplanets and exoplanet formation\\n', '0555,galaxies\\n', '0556,stellar populations and the interstellar medium\\n', '0557,stellar physics and stellar types\\n', '0558,galaxies\\n', '0559,galaxies\\n', '0560,galaxies\\n', '0561,stellar populations and the interstellar medium\\n', '0562,exoplanets and exoplanet formation\\n', '0563,stellar physics and stellar types\\n', '0564,solar system astronomy\\n', '0565,exoplanets and exoplanet formation\\n', '0566,galaxies\\n', '0567,galaxies\\n', '0568,supermassive black holes and active galaxies\\n', '0569,stellar physics and stellar types\\n', '0570,stellar physics and stellar types\\n', '0571,large scale structure of the universe\\n', '0572,stellar physics and stellar types\\n', '0573,galaxies\\n', '0574,stellar physics and stellar types\\n', '0575,exoplanets and exoplanet formation\\n', '0576,stellar physics and stellar types\\n', '0577,stellar populations and the interstellar medium\\n', '0578,supermassive black holes and active galaxies\\n', '0579,stellar populations and the interstellar medium\\n', '0580,supermassive black holes and active galaxies\\n', '0581,exoplanets and exoplanet formation\\n', '0582,intergalactic medium and the circumgalactic medium\\n', '0583,supermassive black holes and active galaxies\\n', '0584,exoplanets and exoplanet formation\\n', '0585,galaxies\\n', '0586,galaxies\\n', '0587,galaxies\\n', '0588,supermassive black holes and active galaxies\\n', '0589,galaxies\\n', '0590,supermassive black holes and active galaxies\\n', '0591,stellar populations and the interstellar medium\\n', '0592,galaxies\\n', '0593,stellar physics and stellar types\\n', '0594,stellar populations and the interstellar medium\\n', '0595,stellar physics and stellar types\\n', '0596,large scale structure of the universe\\n', '0597,exoplanets and exoplanet formation\\n', '0598,solar system astronomy\\n', '0599,stellar physics and stellar types\\n', '0600,galaxies\\n', '0601,large scale structure of the universe\\n', '0602,solar system astronomy\\n', '0603,galaxies\\n', '0604,galaxies\\n', '0605,stellar populations and the interstellar medium\\n', '0606,stellar physics and stellar types\\n', '0607,exoplanets and exoplanet formation\\n', '0608,large scale structure of the universe\\n', '0609,large scale structure of the universe\\n', '0610,intergalactic medium and the circumgalactic medium\\n', '0611,galaxies\\n', '0612,stellar physics and stellar types\\n', '0613,stellar physics and stellar types\\n', '0614,supermassive black holes and active galaxies\\n', '0615,galaxies\\n', '0616,stellar physics and stellar types\\n', '0617,stellar physics and stellar types\\n', '0618,stellar physics and stellar types\\n', '0619,galaxies\\n', '0620,stellar populations and the interstellar medium\\n', '0621,galaxies\\n', '0622,exoplanets and exoplanet formation\\n', '0623,supermassive black holes and active galaxies\\n', '0624,stellar physics and stellar types\\n', '0625,stellar physics and stellar types\\n', '0626,stellar populations and the interstellar medium\\n', '0627,exoplanets and exoplanet formation\\n', '0628,stellar physics and stellar types\\n', '0629,intergalactic medium and the circumgalactic medium\\n', '0630,galaxies\\n', '0631,supermassive black holes and active galaxies\\n', '0632,stellar populations and the interstellar medium\\n', '0633,galaxies\\n', '0634,galaxies\\n', '0635,galaxies\\n', '0636,solar system astronomy\\n', '0637,stellar populations and the interstellar medium\\n', '0638,stellar populations and the interstellar medium\\n', '0639,stellar physics and stellar types\\n', '0640,stellar physics and stellar types\\n', '0641,supermassive black holes and active galaxies\\n', '0642,supermassive black holes and active galaxies\\n', '0643,galaxies\\n', '0644,stellar populations and the interstellar medium\\n', '0645,supermassive black holes and active galaxies\\n', '0646,stellar populations and the interstellar medium\\n', '0647,large scale structure of the universe\\n', '0648,supermassive black holes and active galaxies\\n', '0649,stellar populations and the interstellar medium\\n', '0650,galaxies\\n', '0651,galaxies\\n', '0652,stellar populations and the interstellar medium\\n', '0653,solar system astronomy\\n', '0654,galaxies\\n', '0655,exoplanets and exoplanet formation\\n', '0656,stellar physics and stellar types\\n', '0657,stellar physics and stellar types\\n', '0658,stellar physics and stellar types\\n', '0659,galaxies\\n', '0660,exoplanets and exoplanet formation\\n', '0661,galaxies\\n', '0662,stellar populations and the interstellar medium\\n', '0663,exoplanets and exoplanet formation\\n', '0664,null\\n', '0665,galaxies\\n', '0666,stellar populations and the interstellar medium\\n', '0667,null\\n', '0668,large scale structure of the universe\\n', '0669,stellar populations and the interstellar medium\\n', '0670,stellar populations and the interstellar medium\\n', '0671,stellar physics and stellar types\\n', '0672,galaxies\\n', '0673,intergalactic medium and the circumgalactic medium\\n', '0674,exoplanets and exoplanet formation\\n', '0675,supermassive black holes and active galaxies\\n', '0676,exoplanets and exoplanet formation\\n', '0677,stellar populations and the interstellar medium\\n', '0678,stellar populations and the interstellar medium\\n', '0679,galaxies\\n', '0680,intergalactic medium and the circumgalactic medium\\n', '0681,galaxies\\n', '0682,exoplanets and exoplanet formation\\n', '0683,galaxies\\n', '0684,supermassive black holes and active galaxies\\n', '0685,galaxies\\n', '0686,stellar physics and stellar types\\n', '0687,large scale structure of the universe\\n', '0688,galaxies\\n', '0689,galaxies\\n', '0690,exoplanets and exoplanet formation\\n', '0691,galaxies\\n', '0692,intergalactic medium and the circumgalactic medium\\n', '0693,stellar physics and stellar types\\n', '0694,stellar physics and stellar types\\n', '0695,stellar physics and stellar types\\n', '0696,galaxies\\n', '0697,stellar populations and the interstellar medium\\n', '0698,stellar physics and stellar types\\n', '0699,stellar physics and stellar types\\n', '0700,large scale structure of the universe\\n', '0701,stellar physics and stellar types\\n', '0702,galaxies\\n', '0703,exoplanets and exoplanet formation\\n', '0704,intergalactic medium and the circumgalactic medium\\n', '0705,large scale structure of the universe\\n', '0706,intergalactic medium and the circumgalactic medium\\n', '0707,supermassive black holes and active galaxies\\n', '0708,stellar physics and stellar types\\n', '0709,galaxies\\n', '0710,stellar physics and stellar types\\n', '0711,stellar physics and stellar types\\n', '0712,galaxies\\n', '0713,galaxies\\n', '0714,galaxies\\n', '0715,stellar physics and stellar types\\n', '0716,stellar physics and stellar types\\n', '0717,exoplanets and exoplanet formation\\n', '0718,exoplanets and exoplanet formation\\n', '0719,galaxies\\n', '0720,galaxies\\n', '0721,exoplanets and exoplanet formation\\n', '0722,galaxies\\n', '0723,large scale structure of the universe\\n', '0724,intergalactic medium and the circumgalactic medium\\n', '0725,intergalactic medium and the circumgalactic medium\\n', '0726,galaxies\\n', '0727,supermassive black holes and active galaxies\\n', '0728,large scale structure of the universe\\n', '0729,stellar physics and stellar types\\n', '0730,galaxies\\n', '0731,stellar physics and stellar types\\n', '0732,stellar physics and stellar types\\n', '0733,supermassive black holes and active galaxies\\n', '0734,galaxies\\n', '0735,stellar physics and stellar types\\n', '0736,galaxies\\n', '0737,intergalactic medium and the circumgalactic medium\\n', '0738,galaxies\\n', '0739,stellar physics and stellar types\\n', '0740,galaxies\\n', '0741,intergalactic medium and the circumgalactic medium\\n', '0742,galaxies\\n', '0743,stellar physics and stellar types\\n', '0744,galaxies\\n', '0745,exoplanets and exoplanet formation\\n', '0746,stellar physics and stellar types\\n', '0747,galaxies\\n', '0748,supermassive black holes and active galaxies\\n', '0749,large scale structure of the universe\\n', '0750,galaxies\\n', '0751,intergalactic medium and the circumgalactic medium\\n', '0752,supermassive black holes and active galaxies\\n', '0753,stellar populations and the interstellar medium\\n', '0754,exoplanets and exoplanet formation\\n', '0755,galaxies\\n', '0756,large scale structure of the universe\\n', '0757,stellar populations and the interstellar medium\\n', '0758,stellar physics and stellar types\\n', '0759,galaxies\\n', '0760,intergalactic medium and the circumgalactic medium\\n', '0761,large scale structure of the universe\\n', '0762,intergalactic medium and the circumgalactic medium\\n', '0763,galaxies\\n', '0764,stellar populations and the interstellar medium\\n', '0765,galaxies\\n', '0766,solar system astronomy\\n', '0767,stellar physics and stellar types\\n', '0768,large scale structure of the universe\\n', '0769,intergalactic medium and the circumgalactic medium\\n', '0770,stellar physics and stellar types\\n', '0771,stellar populations and the interstellar medium\\n', '0772,stellar physics and stellar types\\n', '0773,galaxies\\n', '0774,galaxies\\n', '0775,stellar populations and the interstellar medium\\n', '0776,large scale structure of the universe\\n', '0777,galaxies\\n', '0778,stellar physics and stellar types\\n', '0779,galaxies\\n', '0780,exoplanets and exoplanet formation\\n', '0781,stellar populations and the interstellar medium\\n', '0782,galaxies\\n', '0783,stellar populations and the interstellar medium\\n', '0784,exoplanets and exoplanet formation\\n', '0785,exoplanets and exoplanet formation\\n', '0786,stellar physics and stellar types\\n', '0787,stellar physics and stellar types\\n', '0788,stellar physics and stellar types\\n', '0789,galaxies\\n', '0790,large scale structure of the universe\\n', '0791,supermassive black holes and active galaxies\\n', '0792,stellar physics and stellar types\\n', '0793,large scale structure of the universe\\n', '0794,stellar physics and stellar types\\n', '0795,intergalactic medium and the circumgalactic medium\\n', '0796,stellar populations and the interstellar medium\\n', '0797,large scale structure of the universe\\n', '0798,exoplanets and exoplanet formation\\n', '0799,galaxies\\n', '0800,exoplanets and exoplanet formation\\n', '0801,stellar physics and stellar types\\n', '0802,galaxies\\n', '0803,solar system astronomy\\n', '0804,exoplanets and exoplanet formation\\n', '0805,large scale structure of the universe\\n', '0806,stellar physics and stellar types\\n', '0807,stellar physics and stellar types\\n', '0808,intergalactic medium and the circumgalactic medium\\n', '0809,galaxies\\n', '0810,supermassive black holes and active galaxies\\n', '0811,galaxies\\n', '0812,stellar physics and stellar types\\n', '0813,exoplanets and exoplanet formation\\n', '0814,stellar physics and stellar types\\n', '0815,intergalactic medium and the circumgalactic medium\\n', '0816,galaxies\\n', '0817,stellar physics and stellar types\\n', '0818,supermassive black holes and active galaxies\\n', '0819,supermassive black holes and active galaxies\\n', '0820,galaxies\\n', '0821,large scale structure of the universe\\n', '0822,stellar physics and stellar types\\n', '0823,stellar physics and stellar types\\n', '0824,galaxies\\n', '0825,large scale structure of the universe\\n', '0826,galaxies\\n', '0827,stellar physics and stellar types\\n', '0828,intergalactic medium and the circumgalactic medium\\n', '0829,exoplanets and exoplanet formation\\n', '0830,stellar populations and the interstellar medium\\n', '0831,exoplanets and exoplanet formation\\n', '0832,galaxies\\n', '0833,stellar physics and stellar types\\n', '0834,intergalactic medium and the circumgalactic medium\\n', '0835,exoplanets and exoplanet formation\\n', '0836,stellar physics and stellar types\\n', '0837,stellar physics and stellar types\\n', '0838,stellar physics and stellar types\\n', '0839,supermassive black holes and active galaxies\\n', '0840,stellar physics and stellar types\\n', '0841,supermassive black holes and active galaxies\\n', '0842,exoplanets and exoplanet formation\\n', '0843,solar system astronomy\\n', '0844,stellar populations and the interstellar medium\\n', '0845,large scale structure of the universe\\n', '0846,galaxies\\n', '0847,stellar physics and stellar types\\n', '0848,exoplanets and exoplanet formation\\n', '0849,galaxies\\n', '0850,intergalactic medium and the circumgalactic medium\\n', '0851,galaxies\\n', '0852,stellar physics and stellar types\\n', '0853,solar system astronomy\\n', '0854,stellar physics and stellar types\\n', '0855,solar system astronomy\\n', '0856,stellar physics and stellar types\\n', '0857,stellar populations and the interstellar medium\\n', '0858,large scale structure of the universe\\n', '0859,stellar populations and the interstellar medium\\n', '0860,galaxies\\n', '0861,solar system astronomy\\n', '0862,intergalactic medium and the circumgalactic medium\\n', '0863,intergalactic medium and the circumgalactic medium\\n', '0864,galaxies\\n', '0865,stellar physics and stellar types\\n', '0866,solar system astronomy\\n', '0867,supermassive black holes and active galaxies\\n', '0868,stellar populations and the interstellar medium\\n', '0869,solar system astronomy\\n', '0870,exoplanets and exoplanet formation\\n', '0871,solar system astronomy\\n', '0872,stellar populations and the interstellar medium\\n', '0873,stellar physics and stellar types\\n', '0874,stellar physics and stellar types\\n', '0875,stellar physics and stellar types\\n', '0876,galaxies\\n', '0877,galaxies\\n', '0878,large scale structure of the universe\\n', '0879,supermassive black holes and active galaxies\\n', '0880,stellar physics and stellar types\\n', '0881,supermassive black holes and active galaxies\\n', '0882,supermassive black holes and active galaxies\\n', '0883,stellar physics and stellar types\\n', '0884,intergalactic medium and the circumgalactic medium\\n', '0885,exoplanets and exoplanet formation\\n', '0886,supermassive black holes and active galaxies\\n', '0887,stellar physics and stellar types\\n', '0888,stellar physics and stellar types\\n', '0889,stellar physics and stellar types\\n', '0890,exoplanets and exoplanet formation\\n', '0891,intergalactic medium and the circumgalactic medium\\n', '0892,supermassive black holes and active galaxies\\n', '0893,exoplanets and exoplanet formation\\n', '0894,stellar physics and stellar types\\n', '0895,intergalactic medium and the circumgalactic medium\\n', '0896,large scale structure of the universe\\n', '0897,exoplanets and exoplanet formation\\n', '0898,supermassive black holes and active galaxies\\n', '0899,exoplanets and exoplanet formation\\n', '0900,galaxies\\n', '0901,stellar physics and stellar types\\n', '0902,stellar physics and stellar types\\n', '0903,supermassive black holes and active galaxies\\n', '0904,supermassive black holes and active galaxies\\n', '0905,stellar populations and the interstellar medium\\n', '0906,galaxies\\n', '0907,stellar populations and the interstellar medium\\n', '0908,stellar physics and stellar types\\n', '0909,exoplanets and exoplanet formation\\n', '0910,galaxies\\n', '0911,exoplanets and exoplanet formation\\n', '0912,stellar physics and stellar types\\n', '0913,supermassive black holes and active galaxies\\n', '0914,supermassive black holes and active galaxies\\n', '0915,exoplanets and exoplanet formation\\n', '0916,stellar physics and stellar types\\n', '0917,solar system astronomy\\n', '0918,galaxies\\n', '0919,stellar physics and stellar types\\n', '0920,stellar populations and the interstellar medium\\n', '0921,solar system astronomy\\n', '0922,galaxies\\n', '0923,stellar physics and stellar types\\n', '0924,exoplanets and exoplanet formation\\n', '0925,stellar populations and the interstellar medium\\n', '0926,exoplanets and exoplanet formation\\n', '0927,supermassive black holes and active galaxies\\n', '0928,supermassive black holes and active galaxies\\n', '0929,large scale structure of the universe\\n', '0930,stellar physics and stellar types\\n', '0931,stellar populations and the interstellar medium\\n', '0932,stellar physics and stellar types\\n', '0933,solar system astronomy\\n', '0934,stellar populations and the interstellar medium\\n', '0935,stellar physics and stellar types\\n', '0936,galaxies\\n', '0937,stellar populations and the interstellar medium\\n', '0938,galaxies\\n', '0939,galaxies\\n', '0940,exoplanets and exoplanet formation\\n', '0941,stellar populations and the interstellar medium\\n', '0942,galaxies\\n', '0943,intergalactic medium and the circumgalactic medium\\n', '0944,stellar physics and stellar types\\n', '0945,intergalactic medium and the circumgalactic medium\\n', '0946,intergalactic medium and the circumgalactic medium\\n', '0947,exoplanets and exoplanet formation\\n', '0948,large scale structure of the universe\\n', '0949,galaxies\\n', '0950,exoplanets and exoplanet formation\\n', '0951,exoplanets and exoplanet formation\\n', '0952,large scale structure of the universe\\n', '0953,intergalactic medium and the circumgalactic medium\\n', '0954,stellar populations and the interstellar medium\\n', '0955,galaxies\\n', '0956,supermassive black holes and active galaxies\\n', '0957,exoplanets and exoplanet formation\\n', '0958,stellar physics and stellar types\\n', '0959,solar system astronomy\\n', '0960,galaxies\\n', '0961,supermassive black holes and active galaxies\\n', '0962,galaxies\\n', '0963,stellar populations and the interstellar medium\\n', '0964,galaxies\\n', '0965,galaxies\\n', '0966,exoplanets and exoplanet formation\\n', '0967,stellar physics and stellar types\\n', '0968,galaxies\\n', '0969,stellar physics and stellar types\\n', '0970,galaxies\\n', '0971,galaxies\\n', '0972,galaxies\\n', '0973,supermassive black holes and active galaxies\\n', '0974,large scale structure of the universe\\n', '0975,supermassive black holes and active galaxies\\n', '0976,stellar physics and stellar types\\n', '0977,galaxies\\n', '0978,galaxies\\n', '0979,stellar physics and stellar types\\n', '0980,stellar populations and the interstellar medium\\n', '0981,stellar populations and the interstellar medium\\n', '0982,galaxies\\n', '0983,stellar physics and stellar types\\n', '0984,exoplanets and exoplanet formation\\n', '0985,galaxies\\n', '0986,exoplanets and exoplanet formation\\n', '0987,stellar populations and the interstellar medium\\n', '0988,intergalactic medium and the circumgalactic medium\\n', '0989,galaxies\\n', '0990,stellar physics and stellar types\\n', '0991,intergalactic medium and the circumgalactic medium\\n', '0992,stellar physics and stellar types\\n', '0993,exoplanets and exoplanet formation\\n', '0994,stellar populations and the interstellar medium\\n', '0995,galaxies\\n', '0996,galaxies\\n', '0997,stellar physics and stellar types\\n', '0998,galaxies\\n', '0999,stellar populations and the interstellar medium\\n', '1000,stellar physics and stellar types\\n', '1001,exoplanets and exoplanet formation\\n', '1002,stellar populations and the interstellar medium\\n', '1003,exoplanets and exoplanet formation\\n', '1004,large scale structure of the universe\\n', '1005,solar system astronomy\\n', '1006,stellar physics and stellar types\\n', '1007,supermassive black holes and active galaxies\\n', '1008,galaxies\\n', '1009,galaxies\\n', '1010,stellar physics and stellar types\\n', '1011,stellar populations and the interstellar medium\\n', '1012,stellar physics and stellar types\\n', '1013,large scale structure of the universe\\n', '1014,stellar physics and stellar types\\n', '1015,stellar populations and the interstellar medium\\n', '1016,stellar physics and stellar types\\n', '1017,galaxies\\n', '1018,stellar physics and stellar types\\n', '1019,stellar physics and stellar types\\n', '1020,stellar populations and the interstellar medium\\n', '1021,supermassive black holes and active galaxies\\n', '1022,galaxies\\n', '1023,exoplanets and exoplanet formation\\n', '1024,galaxies\\n', '1025,galaxies\\n', '1026,exoplanets and exoplanet formation\\n', '1027,galaxies\\n', '1028,stellar populations and the interstellar medium\\n', '1029,stellar physics and stellar types\\n', '1030,solar system astronomy\\n', '1031,stellar populations and the interstellar medium\\n', '1032,supermassive black holes and active galaxies\\n', '1033,stellar physics and stellar types\\n', '1034,stellar physics and stellar types\\n', '1035,stellar populations and the interstellar medium\\n', '1036,stellar physics and stellar types\\n', '1037,stellar populations and the interstellar medium\\n', '1038,exoplanets and exoplanet formation\\n', '1039,null\\n', '1040,exoplanets and exoplanet formation\\n', '1041,galaxies\\n', '1042,exoplanets and exoplanet formation\\n', '1043,solar system astronomy\\n', '1044,exoplanets and exoplanet formation\\n', '1045,galaxies\\n', '1046,galaxies\\n', '1047,stellar populations and the interstellar medium\\n', '1048,solar system astronomy\\n', '1049,stellar physics and stellar types\\n', '1050,stellar populations and the interstellar medium\\n', '1051,stellar physics and stellar types\\n', '1052,galaxies\\n', '1053,stellar populations and the interstellar medium\\n', '1054,stellar physics and stellar types\\n', '1055,supermassive black holes and active galaxies\\n', '1056,galaxies\\n', '1057,large scale structure of the universe\\n', '1058,supermassive black holes and active galaxies\\n', '1059,large scale structure of the universe\\n', '1060,supermassive black holes and active galaxies\\n', '1061,stellar populations and the interstellar medium\\n', '1062,galaxies\\n', '1063,galaxies\\n', '1064,supermassive black holes and active galaxies\\n', '1065,stellar populations and the interstellar medium\\n', '1066,intergalactic medium and the circumgalactic medium\\n', '1067,exoplanets and exoplanet formation\\n', '1068,exoplanets and exoplanet formation\\n', '1069,stellar physics and stellar types\\n', '1070,supermassive black holes and active galaxies\\n', '1071,supermassive black holes and active galaxies\\n', '1072,stellar physics and stellar types\\n', '1073,exoplanets and exoplanet formation\\n', '1074,galaxies\\n', '1075,galaxies\\n', '1076,stellar physics and stellar types\\n', '1077,exoplanets and exoplanet formation\\n', '1078,exoplanets and exoplanet formation\\n', '1079,stellar physics and stellar types\\n', '1080,exoplanets and exoplanet formation\\n', '1081,galaxies\\n', '1082,stellar populations and the interstellar medium\\n', '1083,stellar physics and stellar types\\n', '1084,exoplanets and exoplanet formation\\n', '1085,stellar physics and stellar types\\n', '1086,stellar physics and stellar types\\n', '1087,stellar physics and stellar types\\n', '1088,supermassive black holes and active galaxies\\n', '1089,null\\n', '1090,supermassive black holes and active galaxies\\n', '1091,supermassive black holes and active galaxies\\n', '1092,exoplanets and exoplanet formation\\n', '1093,galaxies\\n', '1094,exoplanets and exoplanet formation\\n', '1095,exoplanets and exoplanet formation\\n', '1096,stellar physics and stellar types\\n', '1097,intergalactic medium and the circumgalactic medium\\n', '1098,galaxies\\n', '1099,stellar populations and the interstellar medium\\n', '1100,galaxies\\n', '1101,stellar populations and the interstellar medium\\n', '1102,exoplanets and exoplanet formation\\n', '1103,stellar populations and the interstellar medium\\n', '1104,galaxies\\n', '1105,supermassive black holes and active galaxies\\n', '1106,stellar populations and the interstellar medium\\n', '1107,stellar physics and stellar types\\n', '1108,stellar populations and the interstellar medium\\n', '1109,exoplanets and exoplanet formation\\n', '1110,exoplanets and exoplanet formation\\n', '1111,intergalactic medium and the circumgalactic medium\\n', '1112,stellar populations and the interstellar medium\\n', '1113,stellar physics and stellar types\\n', '1114,stellar physics and stellar types\\n', '1115,supermassive black holes and active galaxies\\n', '1116,supermassive black holes and active galaxies\\n', '1117,stellar populations and the interstellar medium\\n', '1118,stellar physics and stellar types\\n', '1119,stellar populations and the interstellar medium\\n', '1120,stellar physics and stellar types\\n', '1121,galaxies\\n', '1122,large scale structure of the universe\\n', '1123,intergalactic medium and the circumgalactic medium\\n', '1124,null\\n', '1125,stellar physics and stellar types\\n', '1126,supermassive black holes and active galaxies\\n', '1127,stellar physics and stellar types\\n', '1128,supermassive black holes and active galaxies\\n', '1129,exoplanets and exoplanet formation\\n', '1130,stellar physics and stellar types\\n', '1131,stellar physics and stellar types\\n', '1132,galaxies\\n', '1133,exoplanets and exoplanet formation\\n', '1134,large scale structure of the universe\\n', '1135,intergalactic medium and the circumgalactic medium\\n', '1136,galaxies\\n', '1137,galaxies\\n', '1138,galaxies\\n', '1139,large scale structure of the universe\\n', '1140,galaxies\\n', '1141,galaxies\\n', '1142,exoplanets and exoplanet formation\\n', '1143,exoplanets and exoplanet formation\\n', '1144,stellar physics and stellar types\\n', '1145,stellar populations and the interstellar medium\\n', '1146,exoplanets and exoplanet formation\\n', '1147,intergalactic medium and the circumgalactic medium\\n', '1148,exoplanets and exoplanet formation\\n', '1149,galaxies\\n', '1150,galaxies\\n', '1151,solar system astronomy\\n', '1152,exoplanets and exoplanet formation\\n', '1153,stellar physics and stellar types\\n', '1154,exoplanets and exoplanet formation\\n', '1155,large scale structure of the universe\\n', '1156,large scale structure of the universe\\n', '1157,solar system astronomy\\n', '1158,supermassive black holes and active galaxies\\n', '1159,stellar physics and stellar types\\n', '1160,galaxies\\n', '1161,stellar physics and stellar types\\n', '1162,galaxies\\n', '1163,supermassive black holes and active galaxies\\n', '1164,galaxies\\n', '1165,supermassive black holes and active galaxies\\n', '1166,stellar physics and stellar types\\n', '1167,galaxies\\n', '1168,solar system astronomy\\n', '1169,stellar physics and stellar types\\n', '1170,exoplanets and exoplanet formation\\n', '1171,supermassive black holes and active galaxies\\n', '1172,galaxies\\n', '1173,stellar physics and stellar types\\n', '1174,exoplanets and exoplanet formation\\n', '1175,stellar physics and stellar types\\n', '1176,stellar physics and stellar types\\n', '1177,stellar physics and stellar types\\n', '1178,stellar physics and stellar types\\n', '1179,exoplanets and exoplanet formation\\n', '1180,stellar populations and the interstellar medium\\n', '1181,supermassive black holes and active galaxies\\n', '1182,galaxies\\n', '1183,stellar physics and stellar types\\n', '1184,stellar populations and the interstellar medium\\n', '1185,exoplanets and exoplanet formation\\n', '1186,exoplanets and exoplanet formation\\n', '1187,intergalactic medium and the circumgalactic medium\\n', '1188,stellar physics and stellar types\\n', '1189,large scale structure of the universe\\n', '1190,stellar physics and stellar types\\n', '1191,exoplanets and exoplanet formation\\n', '1192,stellar populations and the interstellar medium\\n', '1193,galaxies\\n', '1194,supermassive black holes and active galaxies\\n', '1195,galaxies\\n', '1196,stellar populations and the interstellar medium\\n', '1197,stellar physics and stellar types\\n', '1198,supermassive black holes and active galaxies\\n', '1199,large scale structure of the universe\\n', '1200,stellar physics and stellar types\\n', '1201,stellar physics and stellar types\\n', '1202,stellar physics and stellar types\\n', '1203,galaxies\\n', '1204,solar system astronomy\\n', '1205,solar system astronomy\\n', '1206,large scale structure of the universe\\n', '1207,exoplanets and exoplanet formation\\n', '1208,galaxies\\n', '1209,stellar physics and stellar types\\n', '1210,stellar populations and the interstellar medium\\n', '1211,galaxies\\n', '1212,intergalactic medium and the circumgalactic medium\\n', '1213,stellar physics and stellar types\\n', '1214,stellar physics and stellar types\\n', '1215,supermassive black holes and active galaxies\\n', '1216,stellar physics and stellar types\\n', '1217,exoplanets and exoplanet formation\\n', '1218,galaxies\\n', '1219,galaxies\\n', '1220,galaxies\\n', '1221,galaxies\\n', '1222,stellar populations and the interstellar medium\\n', '1223,null\\n', '1224,null\\n', '1225,null\\n', '1226,null\\n', '1227,null\\n', '1228,null\\n', '1229,null\\n', '1230,null\\n', '1231,null\\n', '1232,null\\n', '1233,null\\n', '1234,null\\n', '1235,null\\n', '1236,null\\n', '1237,null\\n', '1238,null\\n', '1239,null\\n', '1240,null\\n', '1241,null\\n', '1242,null\\n', '1243,null\\n', '1244,null\\n', '1245,null\\n', '1246,null\\n', '1247,null\\n', '1248,null\\n', '1249,null\\n', '1250,null\\n', '1251,null\\n', '1252,null\\n', '1253,null\\n', '1254,null\\n', '1255,null\\n', '1256,null\\n', '1257,null\\n', '1258,null\\n', '1259,null\\n', '1260,null\\n', '1261,null\\n', '1262,null\\n', '1263,null\\n', '1264,null\\n', '1265,null\\n', '1266,null\\n', '1267,null\\n', '1268,null\\n', '1269,null\\n', '1270,null\\n', '1271,null\\n', '1272,null\\n', '1273,null\\n', '1274,null\\n', '1275,null\\n', '1276,null\\n', '1277,null\\n', '1278,null\\n', '1279,null\\n', '1280,null\\n', '1281,null\\n', '1282,null\\n', '1283,null\\n', '1284,null\\n', '1285,null\\n', '1286,null\\n', '1287,null\\n', '1288,null\\n', '1289,null\\n', '1290,null\\n', '1291,null\\n', '1292,null\\n', '1293,null\\n', '1294,null\\n', '1295,null\\n', '1296,null\\n', '1297,null\\n', '1298,null\\n', '1299,null\\n', '1300,null\\n', '1301,null\\n', '1302,null\\n', '1303,null\\n', '1304,null\\n', '1305,null\\n', '1306,null\\n', '1307,null\\n', '1308,null\\n', '1309,null\\n', '1310,null\\n', '1311,null\\n', '1312,null\\n', '1313,null\\n', '1314,null\\n', '1315,null\\n', '1316,null\\n', '1317,null\\n', '1318,null\\n', '1319,null\\n', '1320,null\\n', '1321,null\\n', '1322,null\\n', '1323,null\\n', '1324,null\\n', '1325,null\\n', '1326,null\\n', '1327,null\\n', '1328,null\\n', '1329,null\\n', '1330,null\\n', '1331,null\\n', '1332,null\\n', '1333,null\\n', '1334,null\\n', '1335,null\\n', '1336,null\\n', '1337,null\\n', '1338,null\\n', '1339,null\\n', '1340,null\\n', '1341,null\\n', '1342,null\\n', '1343,null\\n', '1344,null\\n', '1345,null\\n', '1346,null\\n', '1347,null\\n', '1348,null\\n', '1349,null\\n', '1350,null\\n', '1351,null\\n', '1352,null\\n', '1353,null\\n', '1354,null\\n', '1355,null\\n', '1356,null\\n', '1357,null\\n', '1358,null\\n', '1359,null\\n', '1360,null\\n', '1361,null\\n', '1362,null\\n', '1363,null\\n', '1364,null\\n', '1365,null\\n', '1366,null\\n', '1367,null\\n', '1368,null\\n', '1369,null\\n', '1370,null\\n', '1371,null\\n', '1372,null\\n', '1373,null\\n', '1374,null\\n', '1375,null\\n', '1376,null\\n', '1377,null\\n', '1378,null\\n', '1379,null\\n', '1380,null\\n', '1381,null\\n', '1382,null\\n', '1383,null\\n', '1384,null\\n', '1385,null\\n', '1386,null\\n', '1387,null\\n', '1388,null\\n', '1389,null\\n', '1390,null\\n', '1391,null\\n', '1392,null\\n', '1393,null\\n', '1394,null\\n', '1395,null\\n', '1396,null\\n', '1397,null\\n', '1398,null\\n', '1399,null\\n', '1400,null\\n', '1401,null\\n', '1402,null\\n', '1403,null\\n', '1404,null\\n', '1405,null\\n', '1406,null\\n', '1407,null\\n', '1408,null\\n', '1409,null\\n', '1410,null\\n', '1411,null\\n', '1412,null\\n', '1413,null\\n', '1414,null\\n', '1415,null\\n', '1416,null\\n', '1417,null\\n', '1418,null\\n', '1419,null\\n', '1420,null\\n', '1421,null\\n', '1422,null\\n', '1423,null\\n', '1424,null\\n', '1425,null\\n', '1426,null\\n', '1427,null\\n', '1428,null\\n', '1429,null\\n', '1430,null\\n', '1431,null\\n', '1432,null\\n', '1433,null\\n', '1434,null\\n', '1435,null\\n', '1436,null\\n', '1437,null\\n', '1438,null\\n', '1439,null\\n', '1440,null\\n', '1441,null\\n', '1442,null\\n', '1443,null\\n', '1444,null\\n', '1445,null\\n', '1446,null\\n', '1447,null\\n', '1448,null\\n', '1449,null\\n', '1450,null\\n', '1451,null\\n', '1452,null\\n', '1453,null\\n', '1454,null\\n', '1455,null\\n', '1456,null\\n', '1457,null\\n', '1458,null\\n', '1459,null\\n', '1460,null\\n', '1461,null\\n', '1462,null\\n', '1463,null\\n', '1464,null\\n', '1465,null\\n', '1466,null\\n', '1467,null\\n', '1468,null\\n', '1469,null\\n', '1470,null\\n', '1471,null\\n', '1472,null\\n', '1473,null\\n', '1474,null\\n', '1475,null\\n', '1476,null\\n', '1477,null\\n', '1478,null\\n', '1479,null\\n', '1480,null\\n', '1481,null\\n', '1482,null\\n', '1483,null\\n', '1484,null\\n', '1485,null\\n', '1486,null\\n', '1487,null\\n', '1488,null\\n', '1489,null\\n', '1490,null\\n', '1491,null\\n', '1492,null\\n', '1493,null\\n', '1494,null\\n', '1495,null\\n', '1496,null\\n', '1497,null\\n', '1498,null\\n', '1499,null\\n', '1500,null\\n']\n"
     ]
    }
   ],
   "source": [
    "\n",
    "read_category_label(fname)"
   ]
  },
  {
   "cell_type": "code",
   "execution_count": 6,
   "metadata": {},
   "outputs": [],
   "source": [
    "pacman = PACManTokenizer()\n",
    "pacman.get_stop_words(fname=os.getcwd()+'/utils/stopwords.txt')"
   ]
  },
  {
   "cell_type": "code",
   "execution_count": 7,
   "metadata": {},
   "outputs": [
    {
     "data": {
      "application/vnd.jupyter.widget-view+json": {
       "model_id": "901f69cf48244a1baaebe224e638e140",
       "version_major": 2,
       "version_minor": 0
      },
      "text/plain": [
       "Canvas(toolbar=Toolbar(toolitems=[('Home', 'Reset original view', 'home', 'home'), ('Back', 'Back to previous …"
      ]
     },
     "metadata": {},
     "output_type": "display_data"
    }
   ],
   "source": [
    "text, cleaned_text, tokens = pacman.run_tokenization(fname=fname, N=20, plot=True)"
   ]
  },
  {
   "cell_type": "code",
   "execution_count": 8,
   "metadata": {},
   "outputs": [
    {
     "name": "stdout",
     "output_type": "stream",
     "text": [
      "The Hubble Space Telescope (HST) has been instrumental in elucidating the nature of the intriguing\n",
      "superluminous supernovae (SLSNe) explosions by providing unparalleled observations of the progenitor stars,\n",
      "supernova imposters such as \"Luminous Blue Variables\" (LBVs) and their host galaxy properties. Furthermore,\n",
      "HST has directly imaged one of the earliest SLSN discovered, SN 2006gy, more than two years after the\n",
      "explosion. Now, more than a decade since the first modern discovery of SLSNe and with more than a hundred\n",
      "members of the class observed, the question on the explosion and energy input mechanism of these\n",
      "unprecedented events still div\n"
     ]
    }
   ],
   "source": [
    "print(text[:650])"
   ]
  },
  {
   "cell_type": "code",
   "execution_count": 9,
   "metadata": {},
   "outputs": [
    {
     "name": "stdout",
     "output_type": "stream",
     "text": [
      "hubble space telescope hst instrumental elucidate nature intriguing superluminous supernova slsne explosion provide unparalleled observation progenitor star supernova imposter luminous blue variable lbvs host galaxy property furthermore hst directly image early slsn discover sn year explosion decade modern discovery slsne member class observe question explosion energy input mechanism unprecedented event divide supernova massive stellar evolution theorist bring team transient supernova observer t\n"
     ]
    }
   ],
   "source": [
    "print(cleaned_text[:500])"
   ]
  },
  {
   "cell_type": "code",
   "execution_count": 10,
   "metadata": {},
   "outputs": [],
   "source": [
    "flist_text = glob.glob(f\"{cy25}/training_corpus/*training.txt\")\n",
    "flist_label = glob.glob(f\"{cy25}/training_corpus/*_Scientific_Category.txt\")"
   ]
  },
  {
   "cell_type": "code",
   "execution_count": 12,
   "metadata": {},
   "outputs": [
    {
     "ename": "AttributeError",
     "evalue": "module 'pacman_classes' has no attribute 'read_in_dataset'",
     "output_type": "error",
     "traceback": [
      "\u001b[0;31m---------------------------------------------------------------------------\u001b[0m",
      "\u001b[0;31mAttributeError\u001b[0m                            Traceback (most recent call last)",
      "\u001b[0;32m<ipython-input-12-4457fbe052e2>\u001b[0m in \u001b[0;36m<module>\u001b[0;34m\u001b[0m\n\u001b[0;32m----> 1\u001b[0;31m \u001b[0mtrain_df\u001b[0m\u001b[0;34m,\u001b[0m \u001b[0mdata\u001b[0m \u001b[0;34m=\u001b[0m \u001b[0mpacman_classes\u001b[0m\u001b[0;34m.\u001b[0m\u001b[0mread_in_dataset\u001b[0m\u001b[0;34m(\u001b[0m\u001b[0mflist\u001b[0m\u001b[0;34m=\u001b[0m\u001b[0mflist_text\u001b[0m\u001b[0;34m,\u001b[0m \u001b[0mparallel\u001b[0m\u001b[0;34m=\u001b[0m\u001b[0;32mFalse\u001b[0m\u001b[0;34m)\u001b[0m\u001b[0;34m\u001b[0m\u001b[0;34m\u001b[0m\u001b[0m\n\u001b[0m",
      "\u001b[0;31mAttributeError\u001b[0m: module 'pacman_classes' has no attribute 'read_in_dataset'"
     ]
    }
   ],
   "source": [
    "train_df, data = pacman_classes.read_in_dataset(flist=flist_text, parallel=False)"
   ]
  },
  {
   "cell_type": "code",
   "execution_count": null,
   "metadata": {},
   "outputs": [],
   "source": [
    "train_df.head()"
   ]
  },
  {
   "cell_type": "code",
   "execution_count": null,
   "metadata": {},
   "outputs": [],
   "source": [
    "categories = train_df['category'].value_counts()\n",
    "fig, ax = plt.subplots(nrows=1, ncols=1)\n",
    "categories.plot.barh(ax=ax)"
   ]
  },
  {
   "cell_type": "code",
   "execution_count": null,
   "metadata": {},
   "outputs": [],
   "source": [
    "def create_balanced_subset(df, categories=[]):\n",
    "    subsets = {}\n",
    "    for category in categories:\n",
    "        data = df[df['category'] == category].iloc[:150,:]\n",
    "        subsets[category] = data\n",
    "    return subsets"
   ]
  },
  {
   "cell_type": "code",
   "execution_count": null,
   "metadata": {},
   "outputs": [],
   "source": [
    "train_df.info()"
   ]
  },
  {
   "cell_type": "code",
   "execution_count": null,
   "metadata": {},
   "outputs": [],
   "source": [
    "subsets = create_balanced_subset(train_df, categories=np.unique(train_df['category']))"
   ]
  },
  {
   "cell_type": "code",
   "execution_count": null,
   "metadata": {},
   "outputs": [],
   "source": [
    "[print(len(subsets[key])) for key in subsets.keys()]"
   ]
  },
  {
   "cell_type": "code",
   "execution_count": null,
   "metadata": {},
   "outputs": [],
   "source": [
    "train_df['category'].factorize()"
   ]
  },
  {
   "cell_type": "code",
   "execution_count": null,
   "metadata": {},
   "outputs": [],
   "source": [
    "train_df['category_id'] = train_df['category'].factorize()[0]"
   ]
  },
  {
   "cell_type": "code",
   "execution_count": null,
   "metadata": {},
   "outputs": [],
   "source": [
    "train_df.tail()"
   ]
  },
  {
   "cell_type": "code",
   "execution_count": null,
   "metadata": {},
   "outputs": [],
   "source": [
    "category_id_df_train = train_df[['category','category_id']]\n",
    "category_to_id_train = dict(category_id_df_train.values)\n",
    "id_to_category_train = dict(category_id_df_train[['category_id', 'category']].values)\n"
   ]
  },
  {
   "cell_type": "code",
   "execution_count": null,
   "metadata": {},
   "outputs": [],
   "source": [
    "id_to_category_test[0] = 'stellar populations and the ism'\n",
    "id_to_category_test[1] = id_to_category_test[1].lower() \n",
    "id_to_category_test[2] = id_to_category_test[2].lower()\n",
    "id_to_category_test[3] = 'planets and planet formation'\n",
    "id_to_category_test[4] = 'galaxies and the igm'\n",
    "id_to_category_test[5] = 'large scale structure of the universe'\n",
    "id_to_category_test[6] = 'supermassive black holes and active galaxies'"
   ]
  },
  {
   "cell_type": "code",
   "execution_count": null,
   "metadata": {},
   "outputs": [],
   "source": [
    "id_to_category_train"
   ]
  },
  {
   "cell_type": "code",
   "execution_count": null,
   "metadata": {},
   "outputs": [],
   "source": [
    "tfidf_vect = TfidfVectorizer(max_features=10000,\n",
    "                             stop_words='english',\n",
    "                             use_idf=True,\n",
    "                             norm='l2',\n",
    "                             ngram_range=(1, 2))"
   ]
  },
  {
   "cell_type": "code",
   "execution_count": null,
   "metadata": {},
   "outputs": [],
   "source": [
    "count_vect = CountVectorizer(max_features=10000, tokenizer=pacman_classes.spacy_tokenizer)"
   ]
  },
  {
   "cell_type": "code",
   "execution_count": null,
   "metadata": {},
   "outputs": [],
   "source": [
    "x_train, x_test, y_train, y_test = model_selection.train_test_split(train_df['text'], train_df['category_id'], test_size=0.2, train_size=0.8)"
   ]
  },
  {
   "cell_type": "code",
   "execution_count": null,
   "metadata": {},
   "outputs": [],
   "source": [
    "count_vect = count_vect.fit(x_train)"
   ]
  },
  {
   "cell_type": "code",
   "execution_count": null,
   "metadata": {},
   "outputs": [],
   "source": [
    "tfidf_vectorizer_vectors=tfidf_vect.fit_transform(x_train)"
   ]
  },
  {
   "cell_type": "code",
   "execution_count": null,
   "metadata": {},
   "outputs": [],
   "source": [
    "first_vector_tfidfvectorizer=tfidf_vectorizer_vectors[0]\n",
    " \n",
    "# place tf-idf values in a pandas data frame\n",
    "df = pd.DataFrame(first_vector_tfidfvectorizer.T.todense(), index=tfidf_vect.get_feature_names(), columns=[\"tfidf\"])\n",
    "df.sort_values(by=[\"tfidf\"],ascending=False)"
   ]
  },
  {
   "cell_type": "code",
   "execution_count": null,
   "metadata": {},
   "outputs": [],
   "source": [
    "Encoder = LabelEncoder()\n",
    "y_train = Encoder.fit_transform(y_train)\n",
    "y_test = Encoder.fit_transform(y_test)"
   ]
  },
  {
   "cell_type": "code",
   "execution_count": null,
   "metadata": {},
   "outputs": [],
   "source": [
    "nb_tfidf = Pipeline([('vect', tfidf_vect),\n",
    "               ('clf', MultinomialNB(alpha=0.05)),\n",
    "              ])\n"
   ]
  },
  {
   "cell_type": "code",
   "execution_count": null,
   "metadata": {},
   "outputs": [],
   "source": [
    "nb_count = Pipeline([('vect', count_vect),\n",
    "               ('clf', MultinomialNB()),\n",
    "              ])"
   ]
  },
  {
   "cell_type": "code",
   "execution_count": null,
   "metadata": {},
   "outputs": [],
   "source": [
    "nb_tfidf.fit(train_df['text'], train_df['category_id'])"
   ]
  },
  {
   "cell_type": "code",
   "execution_count": null,
   "metadata": {},
   "outputs": [],
   "source": [
    "nb_count.fit(train_df['text'], train_df['category_id'])"
   ]
  },
  {
   "cell_type": "code",
   "execution_count": null,
   "metadata": {},
   "outputs": [],
   "source": [
    "flist_text_test = glob.glob(f\"{cy24}/training_corpus/*training.txt\")\n",
    "flist_label_test = glob.glob(f\"{cy24}/training_corpus/*_Scientific_Category.txt\")\n",
    "test_df, data = pacman_classes.read_in_dataset(flist_text=flist_text_test, flist_label=flist_label_test, notebook=True)"
   ]
  },
  {
   "cell_type": "code",
   "execution_count": null,
   "metadata": {},
   "outputs": [],
   "source": [
    "test_df['category'].factorize()"
   ]
  },
  {
   "cell_type": "code",
   "execution_count": null,
   "metadata": {},
   "outputs": [],
   "source": [
    "test_df['category_id'] = test_df['category'].factorize()[0]\n",
    "category_id_df_test = test_df[['category','category_id']]\n",
    "category_to_id_test = dict(category_id_df_test.values)\n",
    "id_to_category_test = dict(category_id_df_test[['category_id', 'category']].values)"
   ]
  },
  {
   "cell_type": "code",
   "execution_count": null,
   "metadata": {},
   "outputs": [],
   "source": [
    "id_to_category_test"
   ]
  },
  {
   "cell_type": "code",
   "execution_count": null,
   "metadata": {},
   "outputs": [],
   "source": [
    "id_to_category_test[0] = 'stellar populations and the ism'\n",
    "id_to_category_test[1] = id_to_category_test[1].lower() \n",
    "id_to_category_test[2] = id_to_category_test[2].lower()\n",
    "id_to_category_test[3] = 'planets and planet formation'\n",
    "id_to_category_test[4] = 'galaxies and the igm'\n",
    "id_to_category_test[5] = 'large scale structure of the universe'\n",
    "id_to_category_test[6] = 'supermassive black holes and active galaxies'"
   ]
  },
  {
   "cell_type": "code",
   "execution_count": null,
   "metadata": {},
   "outputs": [],
   "source": [
    "predictions = nb_tfidf.predict(test_df['text'])"
   ]
  },
  {
   "cell_type": "code",
   "execution_count": null,
   "metadata": {},
   "outputs": [],
   "source": [
    "accuracy_score(test_df['category_id'], predictions)"
   ]
  },
  {
   "cell_type": "code",
   "execution_count": null,
   "metadata": {},
   "outputs": [],
   "source": [
    "predictions_count = nb_count.predict(test_df['text'])"
   ]
  },
  {
   "cell_type": "code",
   "execution_count": null,
   "metadata": {},
   "outputs": [],
   "source": [
    "accuracy_score(test_df['category_id'], predictions_count)"
   ]
  },
  {
   "cell_type": "code",
   "execution_count": null,
   "metadata": {},
   "outputs": [],
   "source": [
    "confusion_mat = confusion_matrix(test_df['category_id'], predictions)"
   ]
  },
  {
   "cell_type": "code",
   "execution_count": null,
   "metadata": {},
   "outputs": [],
   "source": [
    "confusion_mat_count = confusion_matrix(test_df['category_id'], predictions_count)"
   ]
  },
  {
   "cell_type": "code",
   "execution_count": null,
   "metadata": {},
   "outputs": [],
   "source": [
    "print(confusion_mat_count)"
   ]
  },
  {
   "cell_type": "code",
   "execution_count": null,
   "metadata": {},
   "outputs": [],
   "source": [
    "print(classification_report(test_df['category_id'], predictions_count , target_names=list(id_to_category_test.values())))"
   ]
  },
  {
   "cell_type": "code",
   "execution_count": null,
   "metadata": {},
   "outputs": [],
   "source": [
    "print(classification_report(test_df['category_id'], predictions , target_names=list(id_to_category_test.values())))"
   ]
  },
  {
   "cell_type": "markdown",
   "metadata": {},
   "source": [
    "### Cycle 25 testing using the UAT categories"
   ]
  },
  {
   "cell_type": "code",
   "execution_count": null,
   "metadata": {},
   "outputs": [],
   "source": [
    "proposal_classifications = pd.read_csv('../cycle_25_classifications.txt')"
   ]
  },
  {
   "cell_type": "markdown",
   "metadata": {},
   "source": [
    "Parse the filenames to get the proposal number"
   ]
  },
  {
   "cell_type": "code",
   "execution_count": null,
   "metadata": {},
   "outputs": [],
   "source": [
    "proposal_numbers = [int(val.split('/')[-1].split('_')[0]) for val in flist_text]\n",
    "flist_num = list(zip(flist_text, proposal_numbers))\n",
    "flist_num.sort(key=lambda val: val[1])\n",
    "flist_sorted, proposal_num = list(zip(*flist_num))"
   ]
  },
  {
   "cell_type": "code",
   "execution_count": null,
   "metadata": {},
   "outputs": [],
   "source": [
    "hand_classified_null = proposal_classifications[proposal_classifications['classification'].isnull()]"
   ]
  },
  {
   "cell_type": "code",
   "execution_count": null,
   "metadata": {},
   "outputs": [],
   "source": [
    "proposal_classifications.info()"
   ]
  },
  {
   "cell_type": "code",
   "execution_count": null,
   "metadata": {},
   "outputs": [],
   "source": [
    "a = np.ediff1d(proposal_num)\n",
    "idx = list(map(int, np.where(a>1)[0]))\n",
    "missing_proposals = [proposal_num[val]+1 for val in idx]"
   ]
  },
  {
   "cell_type": "code",
   "execution_count": null,
   "metadata": {},
   "outputs": [],
   "source": [
    "missing_proposals"
   ]
  },
  {
   "cell_type": "code",
   "execution_count": null,
   "metadata": {},
   "outputs": [],
   "source": [
    "hand_classified_null"
   ]
  },
  {
   "cell_type": "code",
   "execution_count": null,
   "metadata": {},
   "outputs": [],
   "source": [
    "proposal_classifications['fname'] = [np.nan]*len(proposal_classifications)"
   ]
  },
  {
   "cell_type": "code",
   "execution_count": null,
   "metadata": {},
   "outputs": [],
   "source": [
    "proposal_classifications.head()"
   ]
  },
  {
   "cell_type": "code",
   "execution_count": null,
   "metadata": {},
   "outputs": [],
   "source": [
    "for num, fname in zip(proposal_num, flist_sorted, ):\n",
    "    proposal_classifications['fname'].loc[num-1] = fname"
   ]
  },
  {
   "cell_type": "code",
   "execution_count": null,
   "metadata": {},
   "outputs": [],
   "source": [
    "proposal_classifications['classification'].factorize()"
   ]
  },
  {
   "cell_type": "code",
   "execution_count": null,
   "metadata": {},
   "outputs": [],
   "source": [
    "df, data = pacman_classes.read_in_dataset(flist_label=flist_label, flist_text=flist_sorted)"
   ]
  },
  {
   "cell_type": "code",
   "execution_count": null,
   "metadata": {},
   "outputs": [],
   "source": []
  }
 ],
 "metadata": {
  "kernelspec": {
   "display_name": "Python 3",
   "language": "python",
   "name": "python3"
  },
  "language_info": {
   "codemirror_mode": {
    "name": "ipython",
    "version": 3
   },
   "file_extension": ".py",
   "mimetype": "text/x-python",
   "name": "python",
   "nbconvert_exporter": "python",
   "pygments_lexer": "ipython3",
   "version": "3.8.10"
  }
 },
 "nbformat": 4,
 "nbformat_minor": 4
}
